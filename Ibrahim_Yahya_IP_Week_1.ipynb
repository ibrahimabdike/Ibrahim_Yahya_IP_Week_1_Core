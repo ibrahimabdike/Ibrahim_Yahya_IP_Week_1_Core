{
  "nbformat": 4,
  "nbformat_minor": 0,
  "metadata": {
    "colab": {
      "name": "Ibrahim_Yahya_IP_Week_1.ipynb",
      "version": "0.3.2",
      "provenance": [],
      "include_colab_link": true
    },
    "kernelspec": {
      "name": "python3",
      "display_name": "Python 3"
    }
  },
  "cells": [
    {
      "cell_type": "markdown",
      "metadata": {
        "id": "view-in-github",
        "colab_type": "text"
      },
      "source": [
        "<a href=\"https://colab.research.google.com/github/yahyalito/Ibrahim_Yahya_IP_Week_1_Core/blob/master/Ibrahim_Yahya_IP_Week_1.ipynb\" target=\"_parent\"><img src=\"https://colab.research.google.com/assets/colab-badge.svg\" alt=\"Open In Colab\"/></a>"
      ]
    },
    {
      "cell_type": "code",
      "metadata": {
        "id": "IuRw98P7v35B",
        "colab_type": "code",
        "colab": {
          "base_uri": "https://localhost:8080/",
          "height": 211
        },
        "outputId": "0872b02a-c2d8-4e57-9089-142d5d70475b"
      },
      "source": [
        "pip install factor_analyzer==0.2.3"
      ],
      "execution_count": 54,
      "outputs": [
        {
          "output_type": "stream",
          "text": [
            "Collecting factor_analyzer==0.2.3\n",
            "  Downloading https://files.pythonhosted.org/packages/79/1b/84808bbeee0f3a8753c3d8034baf0aa0013cf08957eff750f366ce83f04a/factor_analyzer-0.2.3-py2.py3-none-any.whl\n",
            "Requirement already satisfied: scipy in /usr/local/lib/python3.6/dist-packages (from factor_analyzer==0.2.3) (1.3.0)\n",
            "Requirement already satisfied: numpy in /usr/local/lib/python3.6/dist-packages (from factor_analyzer==0.2.3) (1.16.4)\n",
            "Requirement already satisfied: pandas in /usr/local/lib/python3.6/dist-packages (from factor_analyzer==0.2.3) (0.24.2)\n",
            "Requirement already satisfied: python-dateutil>=2.5.0 in /usr/local/lib/python3.6/dist-packages (from pandas->factor_analyzer==0.2.3) (2.5.3)\n",
            "Requirement already satisfied: pytz>=2011k in /usr/local/lib/python3.6/dist-packages (from pandas->factor_analyzer==0.2.3) (2018.9)\n",
            "Requirement already satisfied: six>=1.5 in /usr/local/lib/python3.6/dist-packages (from python-dateutil>=2.5.0->pandas->factor_analyzer==0.2.3) (1.12.0)\n",
            "Installing collected packages: factor-analyzer\n",
            "Successfully installed factor-analyzer-0.2.3\n"
          ],
          "name": "stdout"
        }
      ]
    },
    {
      "cell_type": "code",
      "metadata": {
        "id": "UNwfil0-E2tO",
        "colab_type": "code",
        "colab": {}
      },
      "source": [
        "import pandas as pd"
      ],
      "execution_count": 0,
      "outputs": []
    },
    {
      "cell_type": "code",
      "metadata": {
        "id": "9_1k0GzulSGO",
        "colab_type": "code",
        "colab": {}
      },
      "source": [
        "import seaborn as sns"
      ],
      "execution_count": 0,
      "outputs": []
    },
    {
      "cell_type": "code",
      "metadata": {
        "id": "clfciCTmfFJv",
        "colab_type": "code",
        "colab": {}
      },
      "source": [
        "import matplotlib.pyplot as plt"
      ],
      "execution_count": 0,
      "outputs": []
    },
    {
      "cell_type": "code",
      "metadata": {
        "id": "Az_s-qXiE-Sd",
        "colab_type": "code",
        "colab": {}
      },
      "source": [
        "finance = pd.read_csv(\"http://bit.ly/FinancialDataset\")"
      ],
      "execution_count": 0,
      "outputs": []
    },
    {
      "cell_type": "code",
      "metadata": {
        "id": "12ozET_MFPHm",
        "colab_type": "code",
        "outputId": "e481d4d4-c209-4a51-9d4d-63b0617e32a4",
        "colab": {
          "base_uri": "https://localhost:8080/",
          "height": 365
        }
      },
      "source": [
        "finance.head()"
      ],
      "execution_count": 4,
      "outputs": [
        {
          "output_type": "execute_result",
          "data": {
            "text/html": [
              "<div>\n",
              "<style scoped>\n",
              "    .dataframe tbody tr th:only-of-type {\n",
              "        vertical-align: middle;\n",
              "    }\n",
              "\n",
              "    .dataframe tbody tr th {\n",
              "        vertical-align: top;\n",
              "    }\n",
              "\n",
              "    .dataframe thead th {\n",
              "        text-align: right;\n",
              "    }\n",
              "</style>\n",
              "<table border=\"1\" class=\"dataframe\">\n",
              "  <thead>\n",
              "    <tr style=\"text-align: right;\">\n",
              "      <th></th>\n",
              "      <th>country</th>\n",
              "      <th>year</th>\n",
              "      <th>uniqueid</th>\n",
              "      <th>Has a Bank account</th>\n",
              "      <th>Type of Location</th>\n",
              "      <th>Cell Phone Access</th>\n",
              "      <th>household_size</th>\n",
              "      <th>Respondent Age</th>\n",
              "      <th>gender_of_respondent</th>\n",
              "      <th>The relathip with head</th>\n",
              "      <th>marital_status</th>\n",
              "      <th>Level of Educuation</th>\n",
              "      <th>Type of Job</th>\n",
              "    </tr>\n",
              "  </thead>\n",
              "  <tbody>\n",
              "    <tr>\n",
              "      <th>0</th>\n",
              "      <td>Kenya</td>\n",
              "      <td>2018</td>\n",
              "      <td>uniqueid_1</td>\n",
              "      <td>Yes</td>\n",
              "      <td>Rural</td>\n",
              "      <td>Yes</td>\n",
              "      <td>3.0</td>\n",
              "      <td>24.0</td>\n",
              "      <td>Female</td>\n",
              "      <td>Spouse</td>\n",
              "      <td>Married/Living together</td>\n",
              "      <td>Secondary education</td>\n",
              "      <td>Self employed</td>\n",
              "    </tr>\n",
              "    <tr>\n",
              "      <th>1</th>\n",
              "      <td>Kenya</td>\n",
              "      <td>2018</td>\n",
              "      <td>uniqueid_2</td>\n",
              "      <td>No</td>\n",
              "      <td>Rural</td>\n",
              "      <td>No</td>\n",
              "      <td>5.0</td>\n",
              "      <td>70.0</td>\n",
              "      <td>Female</td>\n",
              "      <td>Head of Household</td>\n",
              "      <td>Widowed</td>\n",
              "      <td>No formal education</td>\n",
              "      <td>Government Dependent</td>\n",
              "    </tr>\n",
              "    <tr>\n",
              "      <th>2</th>\n",
              "      <td>Kenya</td>\n",
              "      <td>2018</td>\n",
              "      <td>uniqueid_3</td>\n",
              "      <td>Yes</td>\n",
              "      <td>Urban</td>\n",
              "      <td>Yes</td>\n",
              "      <td>5.0</td>\n",
              "      <td>26.0</td>\n",
              "      <td>Male</td>\n",
              "      <td>Other relative</td>\n",
              "      <td>Single/Never Married</td>\n",
              "      <td>Vocational/Specialised training</td>\n",
              "      <td>Self employed</td>\n",
              "    </tr>\n",
              "    <tr>\n",
              "      <th>3</th>\n",
              "      <td>Kenya</td>\n",
              "      <td>2018</td>\n",
              "      <td>uniqueid_4</td>\n",
              "      <td>No</td>\n",
              "      <td>Rural</td>\n",
              "      <td>Yes</td>\n",
              "      <td>5.0</td>\n",
              "      <td>34.0</td>\n",
              "      <td>Female</td>\n",
              "      <td>Head of Household</td>\n",
              "      <td>Married/Living together</td>\n",
              "      <td>Primary education</td>\n",
              "      <td>Formally employed Private</td>\n",
              "    </tr>\n",
              "    <tr>\n",
              "      <th>4</th>\n",
              "      <td>Kenya</td>\n",
              "      <td>2018</td>\n",
              "      <td>uniqueid_5</td>\n",
              "      <td>No</td>\n",
              "      <td>Urban</td>\n",
              "      <td>No</td>\n",
              "      <td>8.0</td>\n",
              "      <td>26.0</td>\n",
              "      <td>Male</td>\n",
              "      <td>Child</td>\n",
              "      <td>Single/Never Married</td>\n",
              "      <td>Primary education</td>\n",
              "      <td>Informally employed</td>\n",
              "    </tr>\n",
              "  </tbody>\n",
              "</table>\n",
              "</div>"
            ],
            "text/plain": [
              "  country  year  ...              Level of Educuation                Type of Job\n",
              "0   Kenya  2018  ...              Secondary education              Self employed\n",
              "1   Kenya  2018  ...              No formal education       Government Dependent\n",
              "2   Kenya  2018  ...  Vocational/Specialised training              Self employed\n",
              "3   Kenya  2018  ...                Primary education  Formally employed Private\n",
              "4   Kenya  2018  ...                Primary education        Informally employed\n",
              "\n",
              "[5 rows x 13 columns]"
            ]
          },
          "metadata": {
            "tags": []
          },
          "execution_count": 4
        }
      ]
    },
    {
      "cell_type": "markdown",
      "metadata": {
        "id": "Tlt2jJeXK2JK",
        "colab_type": "text"
      },
      "source": [
        "**Question**\n",
        "\n",
        "which individuals are most likely to have or use a bank account\n",
        "\n"
      ]
    },
    {
      "cell_type": "code",
      "metadata": {
        "id": "BT43UPurE_rQ",
        "colab_type": "code",
        "outputId": "ccc88d55-c74e-47f0-be04-3afc914dfff2",
        "colab": {
          "base_uri": "https://localhost:8080/",
          "height": 34
        }
      },
      "source": [
        "finance.shape"
      ],
      "execution_count": 5,
      "outputs": [
        {
          "output_type": "execute_result",
          "data": {
            "text/plain": [
              "(23524, 13)"
            ]
          },
          "metadata": {
            "tags": []
          },
          "execution_count": 5
        }
      ]
    },
    {
      "cell_type": "code",
      "metadata": {
        "id": "mG0YsqqhFDWV",
        "colab_type": "code",
        "outputId": "8a5ba4d9-5a00-4c8d-a0c5-ea4a14d28d12",
        "colab": {
          "base_uri": "https://localhost:8080/",
          "height": 348
        }
      },
      "source": [
        "finance.tail()"
      ],
      "execution_count": 6,
      "outputs": [
        {
          "output_type": "execute_result",
          "data": {
            "text/html": [
              "<div>\n",
              "<style scoped>\n",
              "    .dataframe tbody tr th:only-of-type {\n",
              "        vertical-align: middle;\n",
              "    }\n",
              "\n",
              "    .dataframe tbody tr th {\n",
              "        vertical-align: top;\n",
              "    }\n",
              "\n",
              "    .dataframe thead th {\n",
              "        text-align: right;\n",
              "    }\n",
              "</style>\n",
              "<table border=\"1\" class=\"dataframe\">\n",
              "  <thead>\n",
              "    <tr style=\"text-align: right;\">\n",
              "      <th></th>\n",
              "      <th>country</th>\n",
              "      <th>year</th>\n",
              "      <th>uniqueid</th>\n",
              "      <th>Has a Bank account</th>\n",
              "      <th>Type of Location</th>\n",
              "      <th>Cell Phone Access</th>\n",
              "      <th>household_size</th>\n",
              "      <th>Respondent Age</th>\n",
              "      <th>gender_of_respondent</th>\n",
              "      <th>The relathip with head</th>\n",
              "      <th>marital_status</th>\n",
              "      <th>Level of Educuation</th>\n",
              "      <th>Type of Job</th>\n",
              "    </tr>\n",
              "  </thead>\n",
              "  <tbody>\n",
              "    <tr>\n",
              "      <th>23519</th>\n",
              "      <td>Uganda</td>\n",
              "      <td>2018</td>\n",
              "      <td>uniqueid_2113</td>\n",
              "      <td>No</td>\n",
              "      <td>Rural</td>\n",
              "      <td>Yes</td>\n",
              "      <td>4.0</td>\n",
              "      <td>48.0</td>\n",
              "      <td>Female</td>\n",
              "      <td>Head of Household</td>\n",
              "      <td>Divorced/Seperated</td>\n",
              "      <td>No formal education</td>\n",
              "      <td>Other Income</td>\n",
              "    </tr>\n",
              "    <tr>\n",
              "      <th>23520</th>\n",
              "      <td>Uganda</td>\n",
              "      <td>2018</td>\n",
              "      <td>uniqueid_2114</td>\n",
              "      <td>No</td>\n",
              "      <td>Rural</td>\n",
              "      <td>Yes</td>\n",
              "      <td>2.0</td>\n",
              "      <td>27.0</td>\n",
              "      <td>Female</td>\n",
              "      <td>Head of Household</td>\n",
              "      <td>Single/Never Married</td>\n",
              "      <td>Secondary education</td>\n",
              "      <td>Other Income</td>\n",
              "    </tr>\n",
              "    <tr>\n",
              "      <th>23521</th>\n",
              "      <td>Uganda</td>\n",
              "      <td>2018</td>\n",
              "      <td>uniqueid_2115</td>\n",
              "      <td>No</td>\n",
              "      <td>Rural</td>\n",
              "      <td>Yes</td>\n",
              "      <td>5.0</td>\n",
              "      <td>27.0</td>\n",
              "      <td>Female</td>\n",
              "      <td>Parent</td>\n",
              "      <td>Widowed</td>\n",
              "      <td>Primary education</td>\n",
              "      <td>Other Income</td>\n",
              "    </tr>\n",
              "    <tr>\n",
              "      <th>23522</th>\n",
              "      <td>Uganda</td>\n",
              "      <td>2018</td>\n",
              "      <td>uniqueid_2116</td>\n",
              "      <td>No</td>\n",
              "      <td>Urban</td>\n",
              "      <td>Yes</td>\n",
              "      <td>7.0</td>\n",
              "      <td>30.0</td>\n",
              "      <td>Female</td>\n",
              "      <td>Parent</td>\n",
              "      <td>Divorced/Seperated</td>\n",
              "      <td>Secondary education</td>\n",
              "      <td>Self employed</td>\n",
              "    </tr>\n",
              "    <tr>\n",
              "      <th>23523</th>\n",
              "      <td>Uganda</td>\n",
              "      <td>2018</td>\n",
              "      <td>uniqueid_2117</td>\n",
              "      <td>No</td>\n",
              "      <td>Rural</td>\n",
              "      <td>Yes</td>\n",
              "      <td>10.0</td>\n",
              "      <td>20.0</td>\n",
              "      <td>Male</td>\n",
              "      <td>Child</td>\n",
              "      <td>Single/Never Married</td>\n",
              "      <td>Secondary education</td>\n",
              "      <td>No Income</td>\n",
              "    </tr>\n",
              "  </tbody>\n",
              "</table>\n",
              "</div>"
            ],
            "text/plain": [
              "      country  year  ...  Level of Educuation    Type of Job\n",
              "23519  Uganda  2018  ...  No formal education   Other Income\n",
              "23520  Uganda  2018  ...  Secondary education   Other Income\n",
              "23521  Uganda  2018  ...    Primary education   Other Income\n",
              "23522  Uganda  2018  ...  Secondary education  Self employed\n",
              "23523  Uganda  2018  ...  Secondary education      No Income\n",
              "\n",
              "[5 rows x 13 columns]"
            ]
          },
          "metadata": {
            "tags": []
          },
          "execution_count": 6
        }
      ]
    },
    {
      "cell_type": "code",
      "metadata": {
        "id": "R72CsZx2LaM6",
        "colab_type": "code",
        "outputId": "d53ea496-08dc-4fba-e97e-dbc350f94497",
        "colab": {
          "base_uri": "https://localhost:8080/",
          "height": 330
        }
      },
      "source": [
        "finance.info()"
      ],
      "execution_count": 7,
      "outputs": [
        {
          "output_type": "stream",
          "text": [
            "<class 'pandas.core.frame.DataFrame'>\n",
            "RangeIndex: 23524 entries, 0 to 23523\n",
            "Data columns (total 13 columns):\n",
            "country                   23510 non-null object\n",
            "year                      23524 non-null int64\n",
            "uniqueid                  23524 non-null object\n",
            "Has a Bank account        23488 non-null object\n",
            "Type of Location          23509 non-null object\n",
            "Cell Phone Access         23513 non-null object\n",
            "household_size            23496 non-null float64\n",
            "Respondent Age            23490 non-null float64\n",
            "gender_of_respondent      23490 non-null object\n",
            "The relathip with head    23520 non-null object\n",
            "marital_status            23492 non-null object\n",
            "Level of Educuation       23495 non-null object\n",
            "Type of Job               23494 non-null object\n",
            "dtypes: float64(2), int64(1), object(10)\n",
            "memory usage: 2.3+ MB\n"
          ],
          "name": "stdout"
        }
      ]
    },
    {
      "cell_type": "code",
      "metadata": {
        "id": "-GkOTDhWLfRB",
        "colab_type": "code",
        "outputId": "f8d4b132-9ac6-40bf-c401-96221b69b366",
        "colab": {
          "base_uri": "https://localhost:8080/",
          "height": 260
        }
      },
      "source": [
        "#check missing values\n",
        "finance.isna().sum()"
      ],
      "execution_count": 8,
      "outputs": [
        {
          "output_type": "execute_result",
          "data": {
            "text/plain": [
              "country                   14\n",
              "year                       0\n",
              "uniqueid                   0\n",
              "Has a Bank account        36\n",
              "Type of Location          15\n",
              "Cell Phone Access         11\n",
              "household_size            28\n",
              "Respondent Age            34\n",
              "gender_of_respondent      34\n",
              "The relathip with head     4\n",
              "marital_status            32\n",
              "Level of Educuation       29\n",
              "Type of Job               30\n",
              "dtype: int64"
            ]
          },
          "metadata": {
            "tags": []
          },
          "execution_count": 8
        }
      ]
    },
    {
      "cell_type": "code",
      "metadata": {
        "id": "bdDcbI4Cz5q5",
        "colab_type": "code",
        "colab": {}
      },
      "source": [
        ""
      ],
      "execution_count": 0,
      "outputs": []
    },
    {
      "cell_type": "code",
      "metadata": {
        "id": "Zk0r2Mxf0FBu",
        "colab_type": "code",
        "outputId": "6dcb4a47-145b-4641-d4e8-35375b165b96",
        "colab": {
          "base_uri": "https://localhost:8080/",
          "height": 34
        }
      },
      "source": [
        "finance.shape"
      ],
      "execution_count": 0,
      "outputs": [
        {
          "output_type": "execute_result",
          "data": {
            "text/plain": [
              "(23524, 13)"
            ]
          },
          "metadata": {
            "tags": []
          },
          "execution_count": 50
        }
      ]
    },
    {
      "cell_type": "code",
      "metadata": {
        "id": "8MSMXgFJNOn7",
        "colab_type": "code",
        "outputId": "a90e8ec1-26ca-49a9-9c2b-744668bbd59c",
        "colab": {
          "base_uri": "https://localhost:8080/",
          "height": 330
        }
      },
      "source": [
        "finance.rename(columns={\"Has a Bank account\":\"Has_a_Bank_account\",\n",
        "                       \"Type of Location\" : \"Type_of_Location\",\n",
        "                       \"Cell Phone Access\" : \"Cell_Phone_Access\",\n",
        "                       \"The relathip with head\":\"The_relationship_with_head\",\n",
        "                       \"Level of Educuation\" :\"Level_of_Education\",\n",
        "                       \"Type of Job\" :\"Type_of_Job\",\n",
        "                       \"Respondent Age\" : \"Respondent_Age\"} , inplace=True)\n",
        "finance.head()"
      ],
      "execution_count": 9,
      "outputs": [
        {
          "output_type": "execute_result",
          "data": {
            "text/html": [
              "<div>\n",
              "<style scoped>\n",
              "    .dataframe tbody tr th:only-of-type {\n",
              "        vertical-align: middle;\n",
              "    }\n",
              "\n",
              "    .dataframe tbody tr th {\n",
              "        vertical-align: top;\n",
              "    }\n",
              "\n",
              "    .dataframe thead th {\n",
              "        text-align: right;\n",
              "    }\n",
              "</style>\n",
              "<table border=\"1\" class=\"dataframe\">\n",
              "  <thead>\n",
              "    <tr style=\"text-align: right;\">\n",
              "      <th></th>\n",
              "      <th>country</th>\n",
              "      <th>year</th>\n",
              "      <th>uniqueid</th>\n",
              "      <th>Has_a_Bank_account</th>\n",
              "      <th>Type_of_Location</th>\n",
              "      <th>Cell_Phone_Access</th>\n",
              "      <th>household_size</th>\n",
              "      <th>Respondent_Age</th>\n",
              "      <th>gender_of_respondent</th>\n",
              "      <th>The_relationship_with_head</th>\n",
              "      <th>marital_status</th>\n",
              "      <th>Level_of_Education</th>\n",
              "      <th>Type_of_Job</th>\n",
              "    </tr>\n",
              "  </thead>\n",
              "  <tbody>\n",
              "    <tr>\n",
              "      <th>0</th>\n",
              "      <td>Kenya</td>\n",
              "      <td>2018</td>\n",
              "      <td>uniqueid_1</td>\n",
              "      <td>Yes</td>\n",
              "      <td>Rural</td>\n",
              "      <td>Yes</td>\n",
              "      <td>3.0</td>\n",
              "      <td>24.0</td>\n",
              "      <td>Female</td>\n",
              "      <td>Spouse</td>\n",
              "      <td>Married/Living together</td>\n",
              "      <td>Secondary education</td>\n",
              "      <td>Self employed</td>\n",
              "    </tr>\n",
              "    <tr>\n",
              "      <th>1</th>\n",
              "      <td>Kenya</td>\n",
              "      <td>2018</td>\n",
              "      <td>uniqueid_2</td>\n",
              "      <td>No</td>\n",
              "      <td>Rural</td>\n",
              "      <td>No</td>\n",
              "      <td>5.0</td>\n",
              "      <td>70.0</td>\n",
              "      <td>Female</td>\n",
              "      <td>Head of Household</td>\n",
              "      <td>Widowed</td>\n",
              "      <td>No formal education</td>\n",
              "      <td>Government Dependent</td>\n",
              "    </tr>\n",
              "    <tr>\n",
              "      <th>2</th>\n",
              "      <td>Kenya</td>\n",
              "      <td>2018</td>\n",
              "      <td>uniqueid_3</td>\n",
              "      <td>Yes</td>\n",
              "      <td>Urban</td>\n",
              "      <td>Yes</td>\n",
              "      <td>5.0</td>\n",
              "      <td>26.0</td>\n",
              "      <td>Male</td>\n",
              "      <td>Other relative</td>\n",
              "      <td>Single/Never Married</td>\n",
              "      <td>Vocational/Specialised training</td>\n",
              "      <td>Self employed</td>\n",
              "    </tr>\n",
              "    <tr>\n",
              "      <th>3</th>\n",
              "      <td>Kenya</td>\n",
              "      <td>2018</td>\n",
              "      <td>uniqueid_4</td>\n",
              "      <td>No</td>\n",
              "      <td>Rural</td>\n",
              "      <td>Yes</td>\n",
              "      <td>5.0</td>\n",
              "      <td>34.0</td>\n",
              "      <td>Female</td>\n",
              "      <td>Head of Household</td>\n",
              "      <td>Married/Living together</td>\n",
              "      <td>Primary education</td>\n",
              "      <td>Formally employed Private</td>\n",
              "    </tr>\n",
              "    <tr>\n",
              "      <th>4</th>\n",
              "      <td>Kenya</td>\n",
              "      <td>2018</td>\n",
              "      <td>uniqueid_5</td>\n",
              "      <td>No</td>\n",
              "      <td>Urban</td>\n",
              "      <td>No</td>\n",
              "      <td>8.0</td>\n",
              "      <td>26.0</td>\n",
              "      <td>Male</td>\n",
              "      <td>Child</td>\n",
              "      <td>Single/Never Married</td>\n",
              "      <td>Primary education</td>\n",
              "      <td>Informally employed</td>\n",
              "    </tr>\n",
              "  </tbody>\n",
              "</table>\n",
              "</div>"
            ],
            "text/plain": [
              "  country  year  ...               Level_of_Education                Type_of_Job\n",
              "0   Kenya  2018  ...              Secondary education              Self employed\n",
              "1   Kenya  2018  ...              No formal education       Government Dependent\n",
              "2   Kenya  2018  ...  Vocational/Specialised training              Self employed\n",
              "3   Kenya  2018  ...                Primary education  Formally employed Private\n",
              "4   Kenya  2018  ...                Primary education        Informally employed\n",
              "\n",
              "[5 rows x 13 columns]"
            ]
          },
          "metadata": {
            "tags": []
          },
          "execution_count": 9
        }
      ]
    },
    {
      "cell_type": "code",
      "metadata": {
        "id": "aIHJcRQfOyEY",
        "colab_type": "code",
        "colab": {}
      },
      "source": [
        ""
      ],
      "execution_count": 0,
      "outputs": []
    },
    {
      "cell_type": "code",
      "metadata": {
        "id": "Jb9nBE7gdlCj",
        "colab_type": "code",
        "colab": {}
      },
      "source": [
        "finance_dropped = finance.dropna()"
      ],
      "execution_count": 0,
      "outputs": []
    },
    {
      "cell_type": "code",
      "metadata": {
        "id": "wcmUJN6od8HC",
        "colab_type": "code",
        "outputId": "b51601ba-1160-4602-d3db-c67981a1bea7",
        "colab": {
          "base_uri": "https://localhost:8080/",
          "height": 34
        }
      },
      "source": [
        "finance_dropped.shape"
      ],
      "execution_count": 11,
      "outputs": [
        {
          "output_type": "execute_result",
          "data": {
            "text/plain": [
              "(23343, 13)"
            ]
          },
          "metadata": {
            "tags": []
          },
          "execution_count": 11
        }
      ]
    },
    {
      "cell_type": "code",
      "metadata": {
        "id": "xdAMYjI9WmB8",
        "colab_type": "code",
        "outputId": "ae743a47-829d-4159-9b23-0e831aa493e7",
        "colab": {
          "base_uri": "https://localhost:8080/",
          "height": 34
        }
      },
      "source": [
        "finance_dropped = finance_dropped.drop(\"uniqueid\", axis=1)\n",
        "finance_dropped.shape"
      ],
      "execution_count": 12,
      "outputs": [
        {
          "output_type": "execute_result",
          "data": {
            "text/plain": [
              "(23343, 12)"
            ]
          },
          "metadata": {
            "tags": []
          },
          "execution_count": 12
        }
      ]
    },
    {
      "cell_type": "code",
      "metadata": {
        "id": "e2XjCIET0VqP",
        "colab_type": "code",
        "colab": {}
      },
      "source": [
        "#Checking for duplicates\n",
        "\n",
        "finance_no_duplicate = finance_dropped.drop_duplicates()\n"
      ],
      "execution_count": 0,
      "outputs": []
    },
    {
      "cell_type": "code",
      "metadata": {
        "id": "it63-29K0ZKt",
        "colab_type": "code",
        "outputId": "e70c3ee4-90f6-4c2e-ab1f-1d436320a2fa",
        "colab": {
          "base_uri": "https://localhost:8080/",
          "height": 34
        }
      },
      "source": [
        "finance_no_duplicate.shape"
      ],
      "execution_count": 14,
      "outputs": [
        {
          "output_type": "execute_result",
          "data": {
            "text/plain": [
              "(18972, 12)"
            ]
          },
          "metadata": {
            "tags": []
          },
          "execution_count": 14
        }
      ]
    },
    {
      "cell_type": "code",
      "metadata": {
        "id": "uvbwLRyYM4Gx",
        "colab_type": "code",
        "outputId": "0166094a-1c77-4760-ef81-862fbff09894",
        "colab": {
          "base_uri": "https://localhost:8080/",
          "height": 104
        }
      },
      "source": [
        "finance_dropped.country.value_counts()\n"
      ],
      "execution_count": 15,
      "outputs": [
        {
          "output_type": "execute_result",
          "data": {
            "text/plain": [
              "Rwanda      8684\n",
              "Tanzania    6500\n",
              "Kenya       6064\n",
              "Uganda      2095\n",
              "Name: country, dtype: int64"
            ]
          },
          "metadata": {
            "tags": []
          },
          "execution_count": 15
        }
      ]
    },
    {
      "cell_type": "code",
      "metadata": {
        "id": "-gg2OLIPu4Br",
        "colab_type": "code",
        "outputId": "7b47359f-cfbc-4079-8f3e-a7e4dc2cee6e",
        "colab": {
          "base_uri": "https://localhost:8080/",
          "height": 885
        }
      },
      "source": [
        "#check for unique columns in the data frame\n",
        "for i in finance_dropped.columns:\n",
        " print('\\n')\n",
        " print(finance_dropped[i].unique())"
      ],
      "execution_count": 16,
      "outputs": [
        {
          "output_type": "stream",
          "text": [
            "\n",
            "\n",
            "['Kenya' 'Rwanda' 'Tanzania' 'Uganda']\n",
            "\n",
            "\n",
            "[2018 2029 2056 2016 2039 2017]\n",
            "\n",
            "\n",
            "['Yes' 'No']\n",
            "\n",
            "\n",
            "['Rural' 'Urban']\n",
            "\n",
            "\n",
            "['Yes' 'No']\n",
            "\n",
            "\n",
            "[ 3.  5.  8.  7.  1.  6.  4. 10.  2. 11.  9. 12. 16. 15. 13. 14. 21.  0.\n",
            " 18. 17. 20.]\n",
            "\n",
            "\n",
            "[ 24.  70.  26.  34.  32.  42.  54.  76.  40.  69.  64.  31.  38.  47.\n",
            "  27.  48.  25.  21.  18.  22.  58.  55.  62.  29.  35.  45.  67.  19.\n",
            "  80.  66.  50.  33.  28.  51.  16.  17.  30.  37.  59.  65.  46.  56.\n",
            "  52.  23.  43.  49.  44.  72.  53.  63.  39.  81.  78.  36.  20.  60.\n",
            "  95.  71.  57.  85.  68.  41.  61.  75.  86.  73.  93.  74.  88.  90.\n",
            "  77.  84.  82.  89.  79.  83.  94.  87.  92.  91.  98.  97.  96.  99.\n",
            " 100.]\n",
            "\n",
            "\n",
            "['Female' 'Male']\n",
            "\n",
            "\n",
            "['Spouse' 'Head of Household' 'Other relative' 'Child' 'Parent'\n",
            " 'Other non-relatives']\n",
            "\n",
            "\n",
            "['Married/Living together' 'Widowed' 'Single/Never Married'\n",
            " 'Divorced/Seperated' 'Dont know']\n",
            "\n",
            "\n",
            "['Secondary education' 'No formal education'\n",
            " 'Vocational/Specialised training' 'Primary education'\n",
            " 'Tertiary education' 'Other/Dont know/RTA' '6']\n",
            "\n",
            "\n",
            "['Self employed' 'Government Dependent' 'Formally employed Private'\n",
            " 'Informally employed' 'Formally employed Government'\n",
            " 'Farming and Fishing' 'Remittance Dependent' 'Other Income'\n",
            " 'Dont Know/Refuse to answer' 'No Income']\n"
          ],
          "name": "stdout"
        }
      ]
    },
    {
      "cell_type": "code",
      "metadata": {
        "id": "LQA5kqcZgCFV",
        "colab_type": "code",
        "outputId": "a7c9a4c7-a305-4192-dfb2-3f2a29b6b2b4",
        "colab": {
          "base_uri": "https://localhost:8080/",
          "height": 469
        }
      },
      "source": [
        "finance_dropped.groupby('country')['Level_of_Education'].value_counts()"
      ],
      "execution_count": 17,
      "outputs": [
        {
          "output_type": "execute_result",
          "data": {
            "text/plain": [
              "country   Level_of_Education             \n",
              "Kenya     Primary education                  2596\n",
              "          Secondary education                1785\n",
              "          No formal education                 941\n",
              "          Vocational/Specialised training     442\n",
              "          Tertiary education                  292\n",
              "          Other/Dont know/RTA                   8\n",
              "Rwanda    Primary education                  4809\n",
              "          No formal education                2105\n",
              "          Secondary education                1485\n",
              "          Tertiary education                  176\n",
              "          Vocational/Specialised training      91\n",
              "          6                                    18\n",
              "Tanzania  Primary education                  4158\n",
              "          No formal education                1102\n",
              "          Tertiary education                  644\n",
              "          Secondary education                 424\n",
              "          Vocational/Specialised training     169\n",
              "          6                                     3\n",
              "Uganda    Primary education                  1126\n",
              "          Secondary education                 513\n",
              "          No formal education                 319\n",
              "          Vocational/Specialised training      99\n",
              "          Tertiary education                   32\n",
              "          6                                     6\n",
              "Name: Level_of_Education, dtype: int64"
            ]
          },
          "metadata": {
            "tags": []
          },
          "execution_count": 17
        }
      ]
    },
    {
      "cell_type": "code",
      "metadata": {
        "id": "Fmd8xHKqPWwp",
        "colab_type": "code",
        "outputId": "18a204af-c2e0-46d1-be4a-c30763f3f045",
        "colab": {
          "base_uri": "https://localhost:8080/",
          "height": 69
        }
      },
      "source": [
        "finance_dropped.Type_of_Location.value_counts()"
      ],
      "execution_count": 18,
      "outputs": [
        {
          "output_type": "execute_result",
          "data": {
            "text/plain": [
              "Rural    14264\n",
              "Urban     9079\n",
              "Name: Type_of_Location, dtype: int64"
            ]
          },
          "metadata": {
            "tags": []
          },
          "execution_count": 18
        }
      ]
    },
    {
      "cell_type": "code",
      "metadata": {
        "id": "RE8oRsG4eN6r",
        "colab_type": "code",
        "outputId": "c7441662-4244-4c8b-b37b-5fa58fe750a6",
        "colab": {
          "base_uri": "https://localhost:8080/",
          "height": 139
        }
      },
      "source": [
        "list(finance_dropped['Level_of_Education'].unique())"
      ],
      "execution_count": 19,
      "outputs": [
        {
          "output_type": "execute_result",
          "data": {
            "text/plain": [
              "['Secondary education',\n",
              " 'No formal education',\n",
              " 'Vocational/Specialised training',\n",
              " 'Primary education',\n",
              " 'Tertiary education',\n",
              " 'Other/Dont know/RTA',\n",
              " '6']"
            ]
          },
          "metadata": {
            "tags": []
          },
          "execution_count": 19
        }
      ]
    },
    {
      "cell_type": "code",
      "metadata": {
        "id": "jS1bWYF2oTO0",
        "colab_type": "code",
        "outputId": "d5c39263-e6fa-4852-8d5b-750e99bbb672",
        "colab": {
          "base_uri": "https://localhost:8080/",
          "height": 139
        }
      },
      "source": [
        "list(finance_dropped['Level_of_Education'].unique())"
      ],
      "execution_count": 20,
      "outputs": [
        {
          "output_type": "execute_result",
          "data": {
            "text/plain": [
              "['Secondary education',\n",
              " 'No formal education',\n",
              " 'Vocational/Specialised training',\n",
              " 'Primary education',\n",
              " 'Tertiary education',\n",
              " 'Other/Dont know/RTA',\n",
              " '6']"
            ]
          },
          "metadata": {
            "tags": []
          },
          "execution_count": 20
        }
      ]
    },
    {
      "cell_type": "code",
      "metadata": {
        "id": "uMdl4F8JqFpC",
        "colab_type": "code",
        "outputId": "65209627-ae90-4be2-ccd3-cb08d6a5b162",
        "colab": {
          "base_uri": "https://localhost:8080/",
          "height": 156
        }
      },
      "source": [
        "finance_dropped.Level_of_Education.value_counts()"
      ],
      "execution_count": 21,
      "outputs": [
        {
          "output_type": "execute_result",
          "data": {
            "text/plain": [
              "Primary education                  12689\n",
              "No formal education                 4467\n",
              "Secondary education                 4207\n",
              "Tertiary education                  1144\n",
              "Vocational/Specialised training      801\n",
              "6                                     27\n",
              "Other/Dont know/RTA                    8\n",
              "Name: Level_of_Education, dtype: int64"
            ]
          },
          "metadata": {
            "tags": []
          },
          "execution_count": 21
        }
      ]
    },
    {
      "cell_type": "code",
      "metadata": {
        "id": "8UPmzN2RSm9j",
        "colab_type": "code",
        "outputId": "22a3c642-6ab2-48e6-e419-03c761f667a9",
        "colab": {
          "base_uri": "https://localhost:8080/",
          "height": 191
        }
      },
      "source": [
        "list(finance_dropped['Type_of_Job'].unique())"
      ],
      "execution_count": 22,
      "outputs": [
        {
          "output_type": "execute_result",
          "data": {
            "text/plain": [
              "['Self employed',\n",
              " 'Government Dependent',\n",
              " 'Formally employed Private',\n",
              " 'Informally employed',\n",
              " 'Formally employed Government',\n",
              " 'Farming and Fishing',\n",
              " 'Remittance Dependent',\n",
              " 'Other Income',\n",
              " 'Dont Know/Refuse to answer',\n",
              " 'No Income']"
            ]
          },
          "metadata": {
            "tags": []
          },
          "execution_count": 22
        }
      ]
    },
    {
      "cell_type": "code",
      "metadata": {
        "id": "ZaKLcMw8TEE5",
        "colab_type": "code",
        "outputId": "71da005e-110a-47d3-89a9-fc88b879cb80",
        "colab": {
          "base_uri": "https://localhost:8080/",
          "height": 104
        }
      },
      "source": [
        "list(finance_dropped['marital_status'].unique())"
      ],
      "execution_count": 23,
      "outputs": [
        {
          "output_type": "execute_result",
          "data": {
            "text/plain": [
              "['Married/Living together',\n",
              " 'Widowed',\n",
              " 'Single/Never Married',\n",
              " 'Divorced/Seperated',\n",
              " 'Dont know']"
            ]
          },
          "metadata": {
            "tags": []
          },
          "execution_count": 23
        }
      ]
    },
    {
      "cell_type": "code",
      "metadata": {
        "id": "vInY1aQuTKaW",
        "colab_type": "code",
        "outputId": "44114eee-53fd-46cf-886a-d597c5cec520",
        "colab": {
          "base_uri": "https://localhost:8080/",
          "height": 121
        }
      },
      "source": [
        "list(finance_dropped['The_relationship_with_head'].unique())"
      ],
      "execution_count": 24,
      "outputs": [
        {
          "output_type": "execute_result",
          "data": {
            "text/plain": [
              "['Spouse',\n",
              " 'Head of Household',\n",
              " 'Other relative',\n",
              " 'Child',\n",
              " 'Parent',\n",
              " 'Other non-relatives']"
            ]
          },
          "metadata": {
            "tags": []
          },
          "execution_count": 24
        }
      ]
    },
    {
      "cell_type": "code",
      "metadata": {
        "id": "9G3qgIaAPXbb",
        "colab_type": "code",
        "outputId": "3dd67465-c453-4cc9-9d38-de22bbf3f720",
        "colab": {
          "base_uri": "https://localhost:8080/",
          "height": 34
        }
      },
      "source": [
        "list(finance_dropped['year'].unique())"
      ],
      "execution_count": 25,
      "outputs": [
        {
          "output_type": "execute_result",
          "data": {
            "text/plain": [
              "[2018, 2029, 2056, 2016, 2039, 2017]"
            ]
          },
          "metadata": {
            "tags": []
          },
          "execution_count": 25
        }
      ]
    },
    {
      "cell_type": "code",
      "metadata": {
        "id": "5h_H0tz_VZTQ",
        "colab_type": "code",
        "colab": {}
      },
      "source": [
        "x = finance_dropped[finance_dropped['year'] > 2018].index\n",
        "finance_dropped.drop(x, inplace = True)"
      ],
      "execution_count": 0,
      "outputs": []
    },
    {
      "cell_type": "code",
      "metadata": {
        "id": "1yReLTBKRiGO",
        "colab_type": "code",
        "outputId": "97a361e1-1cb5-4b48-f80e-dd23e3a6e7c0",
        "colab": {
          "base_uri": "https://localhost:8080/",
          "height": 34
        }
      },
      "source": [
        "list(finance_dropped['year'].unique())"
      ],
      "execution_count": 27,
      "outputs": [
        {
          "output_type": "execute_result",
          "data": {
            "text/plain": [
              "[2018, 2016, 2017]"
            ]
          },
          "metadata": {
            "tags": []
          },
          "execution_count": 27
        }
      ]
    },
    {
      "cell_type": "code",
      "metadata": {
        "id": "Ji_IgEC4QHyy",
        "colab_type": "code",
        "outputId": "ef1bf596-0536-45f1-d0b7-6ca8bfb21d8d",
        "colab": {
          "base_uri": "https://localhost:8080/",
          "height": 86
        }
      },
      "source": [
        "finance_dropped.year.value_counts()"
      ],
      "execution_count": 28,
      "outputs": [
        {
          "output_type": "execute_result",
          "data": {
            "text/plain": [
              "2016    8683\n",
              "2018    8157\n",
              "2017    6500\n",
              "Name: year, dtype: int64"
            ]
          },
          "metadata": {
            "tags": []
          },
          "execution_count": 28
        }
      ]
    },
    {
      "cell_type": "markdown",
      "metadata": {
        "id": "6MWNO_NRkibT",
        "colab_type": "text"
      },
      "source": [
        "**Analysis**"
      ]
    },
    {
      "cell_type": "code",
      "metadata": {
        "id": "XcTdJPZssip3",
        "colab_type": "code",
        "outputId": "2a911ea1-38c5-494a-d559-67a2f9c80d8c",
        "colab": {
          "base_uri": "https://localhost:8080/",
          "height": 173
        }
      },
      "source": [
        "finance_dropped['Respondent_Age'].describe()\n"
      ],
      "execution_count": 29,
      "outputs": [
        {
          "output_type": "execute_result",
          "data": {
            "text/plain": [
              "count    23340.000000\n",
              "mean        38.807069\n",
              "std         16.519905\n",
              "min         16.000000\n",
              "25%         26.000000\n",
              "50%         35.000000\n",
              "75%         49.000000\n",
              "max        100.000000\n",
              "Name: Respondent_Age, dtype: float64"
            ]
          },
          "metadata": {
            "tags": []
          },
          "execution_count": 29
        }
      ]
    },
    {
      "cell_type": "code",
      "metadata": {
        "id": "PdH6ULbTsJUK",
        "colab_type": "code",
        "outputId": "ea160dec-41ce-4f57-e6fa-5a7bd384146d",
        "colab": {
          "base_uri": "https://localhost:8080/",
          "height": 173
        }
      },
      "source": [
        "finance_dropped['household_size'].describe()\n"
      ],
      "execution_count": 30,
      "outputs": [
        {
          "output_type": "execute_result",
          "data": {
            "text/plain": [
              "count    23340.000000\n",
              "mean         3.688560\n",
              "std          2.281275\n",
              "min          0.000000\n",
              "25%          2.000000\n",
              "50%          3.000000\n",
              "75%          5.000000\n",
              "max         21.000000\n",
              "Name: household_size, dtype: float64"
            ]
          },
          "metadata": {
            "tags": []
          },
          "execution_count": 30
        }
      ]
    },
    {
      "cell_type": "code",
      "metadata": {
        "id": "aai03p7_svw7",
        "colab_type": "code",
        "colab": {}
      },
      "source": [
        "value_list = ['Kenya', 'Uganda', 'Rwanda' , 'Tanzania']"
      ],
      "execution_count": 0,
      "outputs": []
    },
    {
      "cell_type": "code",
      "metadata": {
        "id": "RR3NR_CfkcRd",
        "colab_type": "code",
        "outputId": "ba0e4e19-64c9-4cc3-e81e-a807b10ee38f",
        "colab": {
          "base_uri": "https://localhost:8080/",
          "height": 206
        }
      },
      "source": [
        "finance_dropped.groupby('country')['household_size'].describe()"
      ],
      "execution_count": 32,
      "outputs": [
        {
          "output_type": "execute_result",
          "data": {
            "text/html": [
              "<div>\n",
              "<style scoped>\n",
              "    .dataframe tbody tr th:only-of-type {\n",
              "        vertical-align: middle;\n",
              "    }\n",
              "\n",
              "    .dataframe tbody tr th {\n",
              "        vertical-align: top;\n",
              "    }\n",
              "\n",
              "    .dataframe thead th {\n",
              "        text-align: right;\n",
              "    }\n",
              "</style>\n",
              "<table border=\"1\" class=\"dataframe\">\n",
              "  <thead>\n",
              "    <tr style=\"text-align: right;\">\n",
              "      <th></th>\n",
              "      <th>count</th>\n",
              "      <th>mean</th>\n",
              "      <th>std</th>\n",
              "      <th>min</th>\n",
              "      <th>25%</th>\n",
              "      <th>50%</th>\n",
              "      <th>75%</th>\n",
              "      <th>max</th>\n",
              "    </tr>\n",
              "    <tr>\n",
              "      <th>country</th>\n",
              "      <th></th>\n",
              "      <th></th>\n",
              "      <th></th>\n",
              "      <th></th>\n",
              "      <th></th>\n",
              "      <th></th>\n",
              "      <th></th>\n",
              "      <th></th>\n",
              "    </tr>\n",
              "  </thead>\n",
              "  <tbody>\n",
              "    <tr>\n",
              "      <th>Kenya</th>\n",
              "      <td>6062.0</td>\n",
              "      <td>3.987133</td>\n",
              "      <td>2.334967</td>\n",
              "      <td>1.0</td>\n",
              "      <td>2.0</td>\n",
              "      <td>4.0</td>\n",
              "      <td>5.0</td>\n",
              "      <td>21.0</td>\n",
              "    </tr>\n",
              "    <tr>\n",
              "      <th>Rwanda</th>\n",
              "      <td>8683.0</td>\n",
              "      <td>4.482782</td>\n",
              "      <td>1.980386</td>\n",
              "      <td>1.0</td>\n",
              "      <td>3.0</td>\n",
              "      <td>4.0</td>\n",
              "      <td>6.0</td>\n",
              "      <td>13.0</td>\n",
              "    </tr>\n",
              "    <tr>\n",
              "      <th>Tanzania</th>\n",
              "      <td>6500.0</td>\n",
              "      <td>1.931692</td>\n",
              "      <td>1.055155</td>\n",
              "      <td>0.0</td>\n",
              "      <td>1.0</td>\n",
              "      <td>2.0</td>\n",
              "      <td>2.0</td>\n",
              "      <td>11.0</td>\n",
              "    </tr>\n",
              "    <tr>\n",
              "      <th>Uganda</th>\n",
              "      <td>2095.0</td>\n",
              "      <td>4.983771</td>\n",
              "      <td>2.893811</td>\n",
              "      <td>1.0</td>\n",
              "      <td>3.0</td>\n",
              "      <td>5.0</td>\n",
              "      <td>7.0</td>\n",
              "      <td>20.0</td>\n",
              "    </tr>\n",
              "  </tbody>\n",
              "</table>\n",
              "</div>"
            ],
            "text/plain": [
              "           count      mean       std  min  25%  50%  75%   max\n",
              "country                                                       \n",
              "Kenya     6062.0  3.987133  2.334967  1.0  2.0  4.0  5.0  21.0\n",
              "Rwanda    8683.0  4.482782  1.980386  1.0  3.0  4.0  6.0  13.0\n",
              "Tanzania  6500.0  1.931692  1.055155  0.0  1.0  2.0  2.0  11.0\n",
              "Uganda    2095.0  4.983771  2.893811  1.0  3.0  5.0  7.0  20.0"
            ]
          },
          "metadata": {
            "tags": []
          },
          "execution_count": 32
        }
      ]
    },
    {
      "cell_type": "code",
      "metadata": {
        "id": "WU6UUBHjw0uE",
        "colab_type": "code",
        "outputId": "68deda41-37f1-4f89-b0f8-168b68d5e657",
        "colab": {
          "base_uri": "https://localhost:8080/",
          "height": 206
        }
      },
      "source": [
        "finance_dropped.groupby('country')['Respondent_Age'].describe()"
      ],
      "execution_count": 33,
      "outputs": [
        {
          "output_type": "execute_result",
          "data": {
            "text/html": [
              "<div>\n",
              "<style scoped>\n",
              "    .dataframe tbody tr th:only-of-type {\n",
              "        vertical-align: middle;\n",
              "    }\n",
              "\n",
              "    .dataframe tbody tr th {\n",
              "        vertical-align: top;\n",
              "    }\n",
              "\n",
              "    .dataframe thead th {\n",
              "        text-align: right;\n",
              "    }\n",
              "</style>\n",
              "<table border=\"1\" class=\"dataframe\">\n",
              "  <thead>\n",
              "    <tr style=\"text-align: right;\">\n",
              "      <th></th>\n",
              "      <th>count</th>\n",
              "      <th>mean</th>\n",
              "      <th>std</th>\n",
              "      <th>min</th>\n",
              "      <th>25%</th>\n",
              "      <th>50%</th>\n",
              "      <th>75%</th>\n",
              "      <th>max</th>\n",
              "    </tr>\n",
              "    <tr>\n",
              "      <th>country</th>\n",
              "      <th></th>\n",
              "      <th></th>\n",
              "      <th></th>\n",
              "      <th></th>\n",
              "      <th></th>\n",
              "      <th></th>\n",
              "      <th></th>\n",
              "      <th></th>\n",
              "    </tr>\n",
              "  </thead>\n",
              "  <tbody>\n",
              "    <tr>\n",
              "      <th>Kenya</th>\n",
              "      <td>6062.0</td>\n",
              "      <td>39.624051</td>\n",
              "      <td>17.215858</td>\n",
              "      <td>16.0</td>\n",
              "      <td>26.0</td>\n",
              "      <td>35.0</td>\n",
              "      <td>50.0</td>\n",
              "      <td>95.0</td>\n",
              "    </tr>\n",
              "    <tr>\n",
              "      <th>Rwanda</th>\n",
              "      <td>8683.0</td>\n",
              "      <td>39.278360</td>\n",
              "      <td>16.262093</td>\n",
              "      <td>16.0</td>\n",
              "      <td>27.0</td>\n",
              "      <td>35.0</td>\n",
              "      <td>49.0</td>\n",
              "      <td>99.0</td>\n",
              "    </tr>\n",
              "    <tr>\n",
              "      <th>Tanzania</th>\n",
              "      <td>6500.0</td>\n",
              "      <td>38.482462</td>\n",
              "      <td>16.441895</td>\n",
              "      <td>16.0</td>\n",
              "      <td>26.0</td>\n",
              "      <td>35.0</td>\n",
              "      <td>48.0</td>\n",
              "      <td>100.0</td>\n",
              "    </tr>\n",
              "    <tr>\n",
              "      <th>Uganda</th>\n",
              "      <td>2095.0</td>\n",
              "      <td>35.496897</td>\n",
              "      <td>15.304233</td>\n",
              "      <td>16.0</td>\n",
              "      <td>24.0</td>\n",
              "      <td>31.0</td>\n",
              "      <td>45.0</td>\n",
              "      <td>98.0</td>\n",
              "    </tr>\n",
              "  </tbody>\n",
              "</table>\n",
              "</div>"
            ],
            "text/plain": [
              "           count       mean        std   min   25%   50%   75%    max\n",
              "country                                                              \n",
              "Kenya     6062.0  39.624051  17.215858  16.0  26.0  35.0  50.0   95.0\n",
              "Rwanda    8683.0  39.278360  16.262093  16.0  27.0  35.0  49.0   99.0\n",
              "Tanzania  6500.0  38.482462  16.441895  16.0  26.0  35.0  48.0  100.0\n",
              "Uganda    2095.0  35.496897  15.304233  16.0  24.0  31.0  45.0   98.0"
            ]
          },
          "metadata": {
            "tags": []
          },
          "execution_count": 33
        }
      ]
    },
    {
      "cell_type": "code",
      "metadata": {
        "id": "N7MaKiwa0fcY",
        "colab_type": "code",
        "colab": {
          "base_uri": "https://localhost:8080/",
          "height": 376
        },
        "outputId": "ae33f6ff-ca62-41d2-a181-c85db6813bac"
      },
      "source": [
        "finance_dropped.groupby(['Type_of_Location','Cell_Phone_Access'])['Has_a_Bank_account'].value_counts().plot.bar()"
      ],
      "execution_count": 61,
      "outputs": [
        {
          "output_type": "execute_result",
          "data": {
            "text/plain": [
              "<matplotlib.axes._subplots.AxesSubplot at 0x7ff587b3a390>"
            ]
          },
          "metadata": {
            "tags": []
          },
          "execution_count": 61
        },
        {
          "output_type": "display_data",
          "data": {
            "image/png": "[encoded data removed]",
            "text/plain": [
              "<Figure size 432x288 with 1 Axes>"
            ]
          },
          "metadata": {
            "tags": []
          }
        }
      ]
    },
    {
      "cell_type": "code",
      "metadata": {
        "id": "E8I03TbD1Jdi",
        "colab_type": "code",
        "colab": {
          "base_uri": "https://localhost:8080/",
          "height": 391
        },
        "outputId": "a2662a2b-985b-4292-ae40-9683315696d5"
      },
      "source": [
        "finance_dropped.groupby(['country','Cell_Phone_Access'])['Has_a_Bank_account'].value_counts().plot.bar()"
      ],
      "execution_count": 62,
      "outputs": [
        {
          "output_type": "execute_result",
          "data": {
            "text/plain": [
              "<matplotlib.axes._subplots.AxesSubplot at 0x7ff580dbac18>"
            ]
          },
          "metadata": {
            "tags": []
          },
          "execution_count": 62
        },
        {
          "output_type": "display_data",
          "data": {
            "image/png": "[encoded data removed]",
            "text/plain": [
              "<Figure size 432x288 with 1 Axes>"
            ]
          },
          "metadata": {
            "tags": []
          }
        }
      ]
    },
    {
      "cell_type": "code",
      "metadata": {
        "id": "o1rsY3mksf4H",
        "colab_type": "code",
        "colab": {}
      },
      "source": [
        "from matplotlib import pyplot as plt\n",
        "plt.scatter(X,Y1,color='red')\n",
        "plt.scatter(X,Y2,color='blue')\n",
        "plt.show()"
      ],
      "execution_count": 0,
      "outputs": []
    },
    {
      "cell_type": "code",
      "metadata": {
        "id": "K_c18OyLqOSa",
        "colab_type": "code",
        "colab": {
          "base_uri": "https://localhost:8080/",
          "height": 564
        },
        "outputId": "402fe08d-3ce2-44ef-c3e9-62b3ab2cee2d"
      },
      "source": [
        "new_finance.plot.scatter('household_size', 'Respondent_Age',  colormap='jet')"
      ],
      "execution_count": 53,
      "outputs": [
        {
          "output_type": "error",
          "ename": "TypeError",
          "evalue": "ignored",
          "traceback": [
            "\u001b[0;31m---------------------------------------------------------------------------\u001b[0m",
            "\u001b[0;31mTypeError\u001b[0m                                 Traceback (most recent call last)",
            "\u001b[0;32m<ipython-input-53-4f9ac9083749>\u001b[0m in \u001b[0;36m<module>\u001b[0;34m()\u001b[0m\n\u001b[0;32m----> 1\u001b[0;31m \u001b[0mnew_finance\u001b[0m\u001b[0;34m.\u001b[0m\u001b[0mplot\u001b[0m\u001b[0;34m.\u001b[0m\u001b[0mscatter\u001b[0m\u001b[0;34m(\u001b[0m\u001b[0;34m'household_size'\u001b[0m\u001b[0;34m,\u001b[0m \u001b[0;34m'Respondent_Age'\u001b[0m\u001b[0;34m,\u001b[0m  \u001b[0mcolormap\u001b[0m\u001b[0;34m=\u001b[0m\u001b[0;34m'jet'\u001b[0m\u001b[0;34m)\u001b[0m\u001b[0;34m\u001b[0m\u001b[0;34m\u001b[0m\u001b[0m\n\u001b[0m",
            "\u001b[0;32m/usr/local/lib/python3.6/dist-packages/pandas/plotting/_core.py\u001b[0m in \u001b[0;36mscatter\u001b[0;34m(self, x, y, s, c, **kwds)\u001b[0m\n\u001b[1;32m   3514\u001b[0m             ...                       colormap='viridis')\n\u001b[1;32m   3515\u001b[0m         \"\"\"\n\u001b[0;32m-> 3516\u001b[0;31m         \u001b[0;32mreturn\u001b[0m \u001b[0mself\u001b[0m\u001b[0;34m(\u001b[0m\u001b[0mkind\u001b[0m\u001b[0;34m=\u001b[0m\u001b[0;34m'scatter'\u001b[0m\u001b[0;34m,\u001b[0m \u001b[0mx\u001b[0m\u001b[0;34m=\u001b[0m\u001b[0mx\u001b[0m\u001b[0;34m,\u001b[0m \u001b[0my\u001b[0m\u001b[0;34m=\u001b[0m\u001b[0my\u001b[0m\u001b[0;34m,\u001b[0m \u001b[0mc\u001b[0m\u001b[0;34m=\u001b[0m\u001b[0mc\u001b[0m\u001b[0;34m,\u001b[0m \u001b[0ms\u001b[0m\u001b[0;34m=\u001b[0m\u001b[0ms\u001b[0m\u001b[0;34m,\u001b[0m \u001b[0;34m**\u001b[0m\u001b[0mkwds\u001b[0m\u001b[0;34m)\u001b[0m\u001b[0;34m\u001b[0m\u001b[0;34m\u001b[0m\u001b[0m\n\u001b[0m\u001b[1;32m   3517\u001b[0m \u001b[0;34m\u001b[0m\u001b[0m\n\u001b[1;32m   3518\u001b[0m     def hexbin(self, x, y, C=None, reduce_C_function=None, gridsize=None,\n",
            "\u001b[0;32m/usr/local/lib/python3.6/dist-packages/pandas/plotting/_core.py\u001b[0m in \u001b[0;36m__call__\u001b[0;34m(self, x, y, kind, ax, subplots, sharex, sharey, layout, figsize, use_index, title, grid, legend, style, logx, logy, loglog, xticks, yticks, xlim, ylim, rot, fontsize, colormap, table, yerr, xerr, secondary_y, sort_columns, **kwds)\u001b[0m\n\u001b[1;32m   2940\u001b[0m                           \u001b[0mfontsize\u001b[0m\u001b[0;34m=\u001b[0m\u001b[0mfontsize\u001b[0m\u001b[0;34m,\u001b[0m \u001b[0mcolormap\u001b[0m\u001b[0;34m=\u001b[0m\u001b[0mcolormap\u001b[0m\u001b[0;34m,\u001b[0m \u001b[0mtable\u001b[0m\u001b[0;34m=\u001b[0m\u001b[0mtable\u001b[0m\u001b[0;34m,\u001b[0m\u001b[0;34m\u001b[0m\u001b[0;34m\u001b[0m\u001b[0m\n\u001b[1;32m   2941\u001b[0m                           \u001b[0myerr\u001b[0m\u001b[0;34m=\u001b[0m\u001b[0myerr\u001b[0m\u001b[0;34m,\u001b[0m \u001b[0mxerr\u001b[0m\u001b[0;34m=\u001b[0m\u001b[0mxerr\u001b[0m\u001b[0;34m,\u001b[0m \u001b[0msecondary_y\u001b[0m\u001b[0;34m=\u001b[0m\u001b[0msecondary_y\u001b[0m\u001b[0;34m,\u001b[0m\u001b[0;34m\u001b[0m\u001b[0;34m\u001b[0m\u001b[0m\n\u001b[0;32m-> 2942\u001b[0;31m                           sort_columns=sort_columns, **kwds)\n\u001b[0m\u001b[1;32m   2943\u001b[0m     \u001b[0m__call__\u001b[0m\u001b[0;34m.\u001b[0m\u001b[0m__doc__\u001b[0m \u001b[0;34m=\u001b[0m \u001b[0mplot_frame\u001b[0m\u001b[0;34m.\u001b[0m\u001b[0m__doc__\u001b[0m\u001b[0;34m\u001b[0m\u001b[0;34m\u001b[0m\u001b[0m\n\u001b[1;32m   2944\u001b[0m \u001b[0;34m\u001b[0m\u001b[0m\n",
            "\u001b[0;32m/usr/local/lib/python3.6/dist-packages/pandas/plotting/_core.py\u001b[0m in \u001b[0;36mplot_frame\u001b[0;34m(data, x, y, kind, ax, subplots, sharex, sharey, layout, figsize, use_index, title, grid, legend, style, logx, logy, loglog, xticks, yticks, xlim, ylim, rot, fontsize, colormap, table, yerr, xerr, secondary_y, sort_columns, **kwds)\u001b[0m\n\u001b[1;32m   1971\u001b[0m                  \u001b[0myerr\u001b[0m\u001b[0;34m=\u001b[0m\u001b[0myerr\u001b[0m\u001b[0;34m,\u001b[0m \u001b[0mxerr\u001b[0m\u001b[0;34m=\u001b[0m\u001b[0mxerr\u001b[0m\u001b[0;34m,\u001b[0m\u001b[0;34m\u001b[0m\u001b[0;34m\u001b[0m\u001b[0m\n\u001b[1;32m   1972\u001b[0m                  \u001b[0msecondary_y\u001b[0m\u001b[0;34m=\u001b[0m\u001b[0msecondary_y\u001b[0m\u001b[0;34m,\u001b[0m \u001b[0msort_columns\u001b[0m\u001b[0;34m=\u001b[0m\u001b[0msort_columns\u001b[0m\u001b[0;34m,\u001b[0m\u001b[0;34m\u001b[0m\u001b[0;34m\u001b[0m\u001b[0m\n\u001b[0;32m-> 1973\u001b[0;31m                  **kwds)\n\u001b[0m\u001b[1;32m   1974\u001b[0m \u001b[0;34m\u001b[0m\u001b[0m\n\u001b[1;32m   1975\u001b[0m \u001b[0;34m\u001b[0m\u001b[0m\n",
            "\u001b[0;32m/usr/local/lib/python3.6/dist-packages/pandas/plotting/_core.py\u001b[0m in \u001b[0;36m_plot\u001b[0;34m(data, x, y, subplots, ax, kind, **kwds)\u001b[0m\n\u001b[1;32m   1799\u001b[0m         \u001b[0mplot_obj\u001b[0m \u001b[0;34m=\u001b[0m \u001b[0mklass\u001b[0m\u001b[0;34m(\u001b[0m\u001b[0mdata\u001b[0m\u001b[0;34m,\u001b[0m \u001b[0msubplots\u001b[0m\u001b[0;34m=\u001b[0m\u001b[0msubplots\u001b[0m\u001b[0;34m,\u001b[0m \u001b[0max\u001b[0m\u001b[0;34m=\u001b[0m\u001b[0max\u001b[0m\u001b[0;34m,\u001b[0m \u001b[0mkind\u001b[0m\u001b[0;34m=\u001b[0m\u001b[0mkind\u001b[0m\u001b[0;34m,\u001b[0m \u001b[0;34m**\u001b[0m\u001b[0mkwds\u001b[0m\u001b[0;34m)\u001b[0m\u001b[0;34m\u001b[0m\u001b[0;34m\u001b[0m\u001b[0m\n\u001b[1;32m   1800\u001b[0m \u001b[0;34m\u001b[0m\u001b[0m\n\u001b[0;32m-> 1801\u001b[0;31m     \u001b[0mplot_obj\u001b[0m\u001b[0;34m.\u001b[0m\u001b[0mgenerate\u001b[0m\u001b[0;34m(\u001b[0m\u001b[0;34m)\u001b[0m\u001b[0;34m\u001b[0m\u001b[0;34m\u001b[0m\u001b[0m\n\u001b[0m\u001b[1;32m   1802\u001b[0m     \u001b[0mplot_obj\u001b[0m\u001b[0;34m.\u001b[0m\u001b[0mdraw\u001b[0m\u001b[0;34m(\u001b[0m\u001b[0;34m)\u001b[0m\u001b[0;34m\u001b[0m\u001b[0;34m\u001b[0m\u001b[0m\n\u001b[1;32m   1803\u001b[0m     \u001b[0;32mreturn\u001b[0m \u001b[0mplot_obj\u001b[0m\u001b[0;34m.\u001b[0m\u001b[0mresult\u001b[0m\u001b[0;34m\u001b[0m\u001b[0;34m\u001b[0m\u001b[0m\n",
            "\u001b[0;32m/usr/local/lib/python3.6/dist-packages/pandas/plotting/_core.py\u001b[0m in \u001b[0;36mgenerate\u001b[0;34m(self)\u001b[0m\n\u001b[1;32m    249\u001b[0m         \u001b[0mself\u001b[0m\u001b[0;34m.\u001b[0m\u001b[0m_compute_plot_data\u001b[0m\u001b[0;34m(\u001b[0m\u001b[0;34m)\u001b[0m\u001b[0;34m\u001b[0m\u001b[0;34m\u001b[0m\u001b[0m\n\u001b[1;32m    250\u001b[0m         \u001b[0mself\u001b[0m\u001b[0;34m.\u001b[0m\u001b[0m_setup_subplots\u001b[0m\u001b[0;34m(\u001b[0m\u001b[0;34m)\u001b[0m\u001b[0;34m\u001b[0m\u001b[0;34m\u001b[0m\u001b[0m\n\u001b[0;32m--> 251\u001b[0;31m         \u001b[0mself\u001b[0m\u001b[0;34m.\u001b[0m\u001b[0m_make_plot\u001b[0m\u001b[0;34m(\u001b[0m\u001b[0;34m)\u001b[0m\u001b[0;34m\u001b[0m\u001b[0;34m\u001b[0m\u001b[0m\n\u001b[0m\u001b[1;32m    252\u001b[0m         \u001b[0mself\u001b[0m\u001b[0;34m.\u001b[0m\u001b[0m_add_table\u001b[0m\u001b[0;34m(\u001b[0m\u001b[0;34m)\u001b[0m\u001b[0;34m\u001b[0m\u001b[0;34m\u001b[0m\u001b[0m\n\u001b[1;32m    253\u001b[0m         \u001b[0mself\u001b[0m\u001b[0;34m.\u001b[0m\u001b[0m_make_legend\u001b[0m\u001b[0;34m(\u001b[0m\u001b[0;34m)\u001b[0m\u001b[0;34m\u001b[0m\u001b[0;34m\u001b[0m\u001b[0m\n",
            "\u001b[0;32m/usr/local/lib/python3.6/dist-packages/pandas/plotting/_core.py\u001b[0m in \u001b[0;36m_make_plot\u001b[0;34m(self)\u001b[0m\n\u001b[1;32m    895\u001b[0m         \u001b[0;32mif\u001b[0m \u001b[0mcb\u001b[0m\u001b[0;34m:\u001b[0m\u001b[0;34m\u001b[0m\u001b[0;34m\u001b[0m\u001b[0m\n\u001b[1;32m    896\u001b[0m             \u001b[0mcbar_label\u001b[0m \u001b[0;34m=\u001b[0m \u001b[0mc\u001b[0m \u001b[0;32mif\u001b[0m \u001b[0mc_is_column\u001b[0m \u001b[0;32melse\u001b[0m \u001b[0;34m''\u001b[0m\u001b[0;34m\u001b[0m\u001b[0;34m\u001b[0m\u001b[0m\n\u001b[0;32m--> 897\u001b[0;31m             \u001b[0mself\u001b[0m\u001b[0;34m.\u001b[0m\u001b[0m_plot_colorbar\u001b[0m\u001b[0;34m(\u001b[0m\u001b[0max\u001b[0m\u001b[0;34m,\u001b[0m \u001b[0mlabel\u001b[0m\u001b[0;34m=\u001b[0m\u001b[0mcbar_label\u001b[0m\u001b[0;34m)\u001b[0m\u001b[0;34m\u001b[0m\u001b[0;34m\u001b[0m\u001b[0m\n\u001b[0m\u001b[1;32m    898\u001b[0m \u001b[0;34m\u001b[0m\u001b[0m\n\u001b[1;32m    899\u001b[0m         \u001b[0;32mif\u001b[0m \u001b[0mlabel\u001b[0m \u001b[0;32mis\u001b[0m \u001b[0;32mnot\u001b[0m \u001b[0;32mNone\u001b[0m\u001b[0;34m:\u001b[0m\u001b[0;34m\u001b[0m\u001b[0;34m\u001b[0m\u001b[0m\n",
            "\u001b[0;32m/usr/local/lib/python3.6/dist-packages/pandas/plotting/_core.py\u001b[0m in \u001b[0;36m_plot_colorbar\u001b[0;34m(self, ax, **kwds)\u001b[0m\n\u001b[1;32m    831\u001b[0m         \u001b[0;31m# https://github.com/ipython/ipython/issues/11215\u001b[0m\u001b[0;34m\u001b[0m\u001b[0;34m\u001b[0m\u001b[0;34m\u001b[0m\u001b[0m\n\u001b[1;32m    832\u001b[0m         \u001b[0mimg\u001b[0m \u001b[0;34m=\u001b[0m \u001b[0max\u001b[0m\u001b[0;34m.\u001b[0m\u001b[0mcollections\u001b[0m\u001b[0;34m[\u001b[0m\u001b[0;36m0\u001b[0m\u001b[0;34m]\u001b[0m\u001b[0;34m\u001b[0m\u001b[0;34m\u001b[0m\u001b[0m\n\u001b[0;32m--> 833\u001b[0;31m         \u001b[0mcbar\u001b[0m \u001b[0;34m=\u001b[0m \u001b[0mself\u001b[0m\u001b[0;34m.\u001b[0m\u001b[0mfig\u001b[0m\u001b[0;34m.\u001b[0m\u001b[0mcolorbar\u001b[0m\u001b[0;34m(\u001b[0m\u001b[0mimg\u001b[0m\u001b[0;34m,\u001b[0m \u001b[0max\u001b[0m\u001b[0;34m=\u001b[0m\u001b[0max\u001b[0m\u001b[0;34m,\u001b[0m \u001b[0;34m**\u001b[0m\u001b[0mkwds\u001b[0m\u001b[0;34m)\u001b[0m\u001b[0;34m\u001b[0m\u001b[0;34m\u001b[0m\u001b[0m\n\u001b[0m\u001b[1;32m    834\u001b[0m \u001b[0;34m\u001b[0m\u001b[0m\n\u001b[1;32m    835\u001b[0m         \u001b[0;32mif\u001b[0m \u001b[0m_mpl_ge_3_0_0\u001b[0m\u001b[0;34m(\u001b[0m\u001b[0;34m)\u001b[0m\u001b[0;34m:\u001b[0m\u001b[0;34m\u001b[0m\u001b[0;34m\u001b[0m\u001b[0m\n",
            "\u001b[0;32m/usr/local/lib/python3.6/dist-packages/matplotlib/figure.py\u001b[0m in \u001b[0;36mcolorbar\u001b[0;34m(self, mappable, cax, ax, use_gridspec, **kw)\u001b[0m\n\u001b[1;32m   2127\u001b[0m                              'panchor']\n\u001b[1;32m   2128\u001b[0m         \u001b[0mcb_kw\u001b[0m \u001b[0;34m=\u001b[0m \u001b[0;34m{\u001b[0m\u001b[0mk\u001b[0m\u001b[0;34m:\u001b[0m \u001b[0mv\u001b[0m \u001b[0;32mfor\u001b[0m \u001b[0mk\u001b[0m\u001b[0;34m,\u001b[0m \u001b[0mv\u001b[0m \u001b[0;32min\u001b[0m \u001b[0mkw\u001b[0m\u001b[0;34m.\u001b[0m\u001b[0mitems\u001b[0m\u001b[0;34m(\u001b[0m\u001b[0;34m)\u001b[0m \u001b[0;32mif\u001b[0m \u001b[0mk\u001b[0m \u001b[0;32mnot\u001b[0m \u001b[0;32min\u001b[0m \u001b[0mNON_COLORBAR_KEYS\u001b[0m\u001b[0;34m}\u001b[0m\u001b[0;34m\u001b[0m\u001b[0;34m\u001b[0m\u001b[0m\n\u001b[0;32m-> 2129\u001b[0;31m         \u001b[0mcb\u001b[0m \u001b[0;34m=\u001b[0m \u001b[0mcbar\u001b[0m\u001b[0;34m.\u001b[0m\u001b[0mcolorbar_factory\u001b[0m\u001b[0;34m(\u001b[0m\u001b[0mcax\u001b[0m\u001b[0;34m,\u001b[0m \u001b[0mmappable\u001b[0m\u001b[0;34m,\u001b[0m \u001b[0;34m**\u001b[0m\u001b[0mcb_kw\u001b[0m\u001b[0;34m)\u001b[0m\u001b[0;34m\u001b[0m\u001b[0;34m\u001b[0m\u001b[0m\n\u001b[0m\u001b[1;32m   2130\u001b[0m \u001b[0;34m\u001b[0m\u001b[0m\n\u001b[1;32m   2131\u001b[0m         \u001b[0mself\u001b[0m\u001b[0;34m.\u001b[0m\u001b[0msca\u001b[0m\u001b[0;34m(\u001b[0m\u001b[0mcurrent_ax\u001b[0m\u001b[0;34m)\u001b[0m\u001b[0;34m\u001b[0m\u001b[0;34m\u001b[0m\u001b[0m\n",
            "\u001b[0;32m/usr/local/lib/python3.6/dist-packages/matplotlib/colorbar.py\u001b[0m in \u001b[0;36mcolorbar_factory\u001b[0;34m(cax, mappable, **kwargs)\u001b[0m\n\u001b[1;32m   1564\u001b[0m         \u001b[0mcb\u001b[0m \u001b[0;34m=\u001b[0m \u001b[0mColorbarPatch\u001b[0m\u001b[0;34m(\u001b[0m\u001b[0mcax\u001b[0m\u001b[0;34m,\u001b[0m \u001b[0mmappable\u001b[0m\u001b[0;34m,\u001b[0m \u001b[0;34m**\u001b[0m\u001b[0mkwargs\u001b[0m\u001b[0;34m)\u001b[0m\u001b[0;34m\u001b[0m\u001b[0;34m\u001b[0m\u001b[0m\n\u001b[1;32m   1565\u001b[0m     \u001b[0;32melse\u001b[0m\u001b[0;34m:\u001b[0m\u001b[0;34m\u001b[0m\u001b[0;34m\u001b[0m\u001b[0m\n\u001b[0;32m-> 1566\u001b[0;31m         \u001b[0mcb\u001b[0m \u001b[0;34m=\u001b[0m \u001b[0mColorbar\u001b[0m\u001b[0;34m(\u001b[0m\u001b[0mcax\u001b[0m\u001b[0;34m,\u001b[0m \u001b[0mmappable\u001b[0m\u001b[0;34m,\u001b[0m \u001b[0;34m**\u001b[0m\u001b[0mkwargs\u001b[0m\u001b[0;34m)\u001b[0m\u001b[0;34m\u001b[0m\u001b[0;34m\u001b[0m\u001b[0m\n\u001b[0m\u001b[1;32m   1567\u001b[0m \u001b[0;34m\u001b[0m\u001b[0m\n\u001b[1;32m   1568\u001b[0m     \u001b[0mcid\u001b[0m \u001b[0;34m=\u001b[0m \u001b[0mmappable\u001b[0m\u001b[0;34m.\u001b[0m\u001b[0mcallbacksSM\u001b[0m\u001b[0;34m.\u001b[0m\u001b[0mconnect\u001b[0m\u001b[0;34m(\u001b[0m\u001b[0;34m'changed'\u001b[0m\u001b[0;34m,\u001b[0m \u001b[0mcb\u001b[0m\u001b[0;34m.\u001b[0m\u001b[0mon_mappable_changed\u001b[0m\u001b[0;34m)\u001b[0m\u001b[0;34m\u001b[0m\u001b[0;34m\u001b[0m\u001b[0m\n",
            "\u001b[0;32m/usr/local/lib/python3.6/dist-packages/matplotlib/colorbar.py\u001b[0m in \u001b[0;36m__init__\u001b[0;34m(self, ax, mappable, **kw)\u001b[0m\n\u001b[1;32m   1070\u001b[0m         \u001b[0;31m# Ensure the given mappable's norm has appropriate vmin and vmax set\u001b[0m\u001b[0;34m\u001b[0m\u001b[0;34m\u001b[0m\u001b[0;34m\u001b[0m\u001b[0m\n\u001b[1;32m   1071\u001b[0m         \u001b[0;31m# even if mappable.draw has not yet been called.\u001b[0m\u001b[0;34m\u001b[0m\u001b[0;34m\u001b[0m\u001b[0;34m\u001b[0m\u001b[0m\n\u001b[0;32m-> 1072\u001b[0;31m         \u001b[0mmappable\u001b[0m\u001b[0;34m.\u001b[0m\u001b[0mautoscale_None\u001b[0m\u001b[0;34m(\u001b[0m\u001b[0;34m)\u001b[0m\u001b[0;34m\u001b[0m\u001b[0;34m\u001b[0m\u001b[0m\n\u001b[0m\u001b[1;32m   1073\u001b[0m \u001b[0;34m\u001b[0m\u001b[0m\n\u001b[1;32m   1074\u001b[0m         \u001b[0mself\u001b[0m\u001b[0;34m.\u001b[0m\u001b[0mmappable\u001b[0m \u001b[0;34m=\u001b[0m \u001b[0mmappable\u001b[0m\u001b[0;34m\u001b[0m\u001b[0;34m\u001b[0m\u001b[0m\n",
            "\u001b[0;32m/usr/local/lib/python3.6/dist-packages/matplotlib/cm.py\u001b[0m in \u001b[0;36mautoscale_None\u001b[0;34m(self)\u001b[0m\n\u001b[1;32m    372\u001b[0m         \"\"\"\n\u001b[1;32m    373\u001b[0m         \u001b[0;32mif\u001b[0m \u001b[0mself\u001b[0m\u001b[0;34m.\u001b[0m\u001b[0m_A\u001b[0m \u001b[0;32mis\u001b[0m \u001b[0;32mNone\u001b[0m\u001b[0;34m:\u001b[0m\u001b[0;34m\u001b[0m\u001b[0;34m\u001b[0m\u001b[0m\n\u001b[0;32m--> 374\u001b[0;31m             \u001b[0;32mraise\u001b[0m \u001b[0mTypeError\u001b[0m\u001b[0;34m(\u001b[0m\u001b[0;34m'You must first set_array for mappable'\u001b[0m\u001b[0;34m)\u001b[0m\u001b[0;34m\u001b[0m\u001b[0;34m\u001b[0m\u001b[0m\n\u001b[0m\u001b[1;32m    375\u001b[0m         \u001b[0mself\u001b[0m\u001b[0;34m.\u001b[0m\u001b[0mnorm\u001b[0m\u001b[0;34m.\u001b[0m\u001b[0mautoscale_None\u001b[0m\u001b[0;34m(\u001b[0m\u001b[0mself\u001b[0m\u001b[0;34m.\u001b[0m\u001b[0m_A\u001b[0m\u001b[0;34m)\u001b[0m\u001b[0;34m\u001b[0m\u001b[0;34m\u001b[0m\u001b[0m\n\u001b[1;32m    376\u001b[0m         \u001b[0mself\u001b[0m\u001b[0;34m.\u001b[0m\u001b[0mchanged\u001b[0m\u001b[0;34m(\u001b[0m\u001b[0;34m)\u001b[0m\u001b[0;34m\u001b[0m\u001b[0;34m\u001b[0m\u001b[0m\n",
            "\u001b[0;31mTypeError\u001b[0m: You must first set_array for mappable"
          ]
        },
        {
          "output_type": "display_data",
          "data": {
            "image/png": "[encoded data removed]",
            "text/plain": [
              "<Figure size 432x288 with 2 Axes>"
            ]
          },
          "metadata": {
            "tags": []
          }
        }
      ]
    },
    {
      "cell_type": "code",
      "metadata": {
        "id": "qdB62hrWsKcH",
        "colab_type": "code",
        "colab": {}
      },
      "source": [
        "colors = np.where(df[\"Animation\"]==1,'y','k')\n",
        "df.plot.scatter(x=\"year\",y=\"length\",c=colors)\n",
        "plt.show()"
      ],
      "execution_count": 0,
      "outputs": []
    },
    {
      "cell_type": "code",
      "metadata": {
        "id": "VeTiLZcyqOZb",
        "colab_type": "code",
        "colab": {}
      },
      "source": [
        ""
      ],
      "execution_count": 0,
      "outputs": []
    },
    {
      "cell_type": "code",
      "metadata": {
        "id": "k6P2PiTJvfVX",
        "colab_type": "code",
        "colab": {
          "base_uri": "https://localhost:8080/",
          "height": 566
        },
        "outputId": "367014f8-3029-4b0b-e24c-eac53e04c828"
      },
      "source": [
        "plt.figure(figsize=(14, 14))\n",
        "sns.pairplot(finance_dropped, diag_kind='kde');"
      ],
      "execution_count": 38,
      "outputs": [
        {
          "output_type": "display_data",
          "data": {
            "text/plain": [
              "<Figure size 1008x1008 with 0 Axes>"
            ]
          },
          "metadata": {
            "tags": []
          }
        },
        {
          "output_type": "display_data",
          "data": {
            "image/png": "[encoded data removed]",
            "text/plain": [
              "<Figure size 540x540 with 12 Axes>"
            ]
          },
          "metadata": {
            "tags": []
          }
        }
      ]
    },
    {
      "cell_type": "code",
      "metadata": {
        "id": "faZk_LVRliWm",
        "colab_type": "code",
        "colab": {
          "base_uri": "https://localhost:8080/",
          "height": 244
        },
        "outputId": "34b81565-f998-4563-c709-13294b6302d5"
      },
      "source": [
        "new_finance= pd.get_dummies(finance_dropped, prefix_sep='_', drop_first=True)\n",
        "new_finance.head()"
      ],
      "execution_count": 40,
      "outputs": [
        {
          "output_type": "execute_result",
          "data": {
            "text/html": [
              "<div>\n",
              "<style scoped>\n",
              "    .dataframe tbody tr th:only-of-type {\n",
              "        vertical-align: middle;\n",
              "    }\n",
              "\n",
              "    .dataframe tbody tr th {\n",
              "        vertical-align: top;\n",
              "    }\n",
              "\n",
              "    .dataframe thead th {\n",
              "        text-align: right;\n",
              "    }\n",
              "</style>\n",
              "<table border=\"1\" class=\"dataframe\">\n",
              "  <thead>\n",
              "    <tr style=\"text-align: right;\">\n",
              "      <th></th>\n",
              "      <th>year</th>\n",
              "      <th>household_size</th>\n",
              "      <th>Respondent_Age</th>\n",
              "      <th>country_Rwanda</th>\n",
              "      <th>country_Tanzania</th>\n",
              "      <th>country_Uganda</th>\n",
              "      <th>Has_a_Bank_account_Yes</th>\n",
              "      <th>Type_of_Location_Urban</th>\n",
              "      <th>Cell_Phone_Access_Yes</th>\n",
              "      <th>gender_of_respondent_Male</th>\n",
              "      <th>The_relationship_with_head_Head of Household</th>\n",
              "      <th>The_relationship_with_head_Other non-relatives</th>\n",
              "      <th>The_relationship_with_head_Other relative</th>\n",
              "      <th>The_relationship_with_head_Parent</th>\n",
              "      <th>The_relationship_with_head_Spouse</th>\n",
              "      <th>marital_status_Dont know</th>\n",
              "      <th>marital_status_Married/Living together</th>\n",
              "      <th>marital_status_Single/Never Married</th>\n",
              "      <th>marital_status_Widowed</th>\n",
              "      <th>Level_of_Education_No formal education</th>\n",
              "      <th>Level_of_Education_Other/Dont know/RTA</th>\n",
              "      <th>Level_of_Education_Primary education</th>\n",
              "      <th>Level_of_Education_Secondary education</th>\n",
              "      <th>Level_of_Education_Tertiary education</th>\n",
              "      <th>Level_of_Education_Vocational/Specialised training</th>\n",
              "      <th>Type_of_Job_Farming and Fishing</th>\n",
              "      <th>Type_of_Job_Formally employed Government</th>\n",
              "      <th>Type_of_Job_Formally employed Private</th>\n",
              "      <th>Type_of_Job_Government Dependent</th>\n",
              "      <th>Type_of_Job_Informally employed</th>\n",
              "      <th>Type_of_Job_No Income</th>\n",
              "      <th>Type_of_Job_Other Income</th>\n",
              "      <th>Type_of_Job_Remittance Dependent</th>\n",
              "      <th>Type_of_Job_Self employed</th>\n",
              "    </tr>\n",
              "  </thead>\n",
              "  <tbody>\n",
              "    <tr>\n",
              "      <th>0</th>\n",
              "      <td>2018</td>\n",
              "      <td>3.0</td>\n",
              "      <td>24.0</td>\n",
              "      <td>0</td>\n",
              "      <td>0</td>\n",
              "      <td>0</td>\n",
              "      <td>1</td>\n",
              "      <td>0</td>\n",
              "      <td>1</td>\n",
              "      <td>0</td>\n",
              "      <td>0</td>\n",
              "      <td>0</td>\n",
              "      <td>0</td>\n",
              "      <td>0</td>\n",
              "      <td>1</td>\n",
              "      <td>0</td>\n",
              "      <td>1</td>\n",
              "      <td>0</td>\n",
              "      <td>0</td>\n",
              "      <td>0</td>\n",
              "      <td>0</td>\n",
              "      <td>0</td>\n",
              "      <td>1</td>\n",
              "      <td>0</td>\n",
              "      <td>0</td>\n",
              "      <td>0</td>\n",
              "      <td>0</td>\n",
              "      <td>0</td>\n",
              "      <td>0</td>\n",
              "      <td>0</td>\n",
              "      <td>0</td>\n",
              "      <td>0</td>\n",
              "      <td>0</td>\n",
              "      <td>1</td>\n",
              "    </tr>\n",
              "    <tr>\n",
              "      <th>1</th>\n",
              "      <td>2018</td>\n",
              "      <td>5.0</td>\n",
              "      <td>70.0</td>\n",
              "      <td>0</td>\n",
              "      <td>0</td>\n",
              "      <td>0</td>\n",
              "      <td>0</td>\n",
              "      <td>0</td>\n",
              "      <td>0</td>\n",
              "      <td>0</td>\n",
              "      <td>1</td>\n",
              "      <td>0</td>\n",
              "      <td>0</td>\n",
              "      <td>0</td>\n",
              "      <td>0</td>\n",
              "      <td>0</td>\n",
              "      <td>0</td>\n",
              "      <td>0</td>\n",
              "      <td>1</td>\n",
              "      <td>1</td>\n",
              "      <td>0</td>\n",
              "      <td>0</td>\n",
              "      <td>0</td>\n",
              "      <td>0</td>\n",
              "      <td>0</td>\n",
              "      <td>0</td>\n",
              "      <td>0</td>\n",
              "      <td>0</td>\n",
              "      <td>1</td>\n",
              "      <td>0</td>\n",
              "      <td>0</td>\n",
              "      <td>0</td>\n",
              "      <td>0</td>\n",
              "      <td>0</td>\n",
              "    </tr>\n",
              "    <tr>\n",
              "      <th>2</th>\n",
              "      <td>2018</td>\n",
              "      <td>5.0</td>\n",
              "      <td>26.0</td>\n",
              "      <td>0</td>\n",
              "      <td>0</td>\n",
              "      <td>0</td>\n",
              "      <td>1</td>\n",
              "      <td>1</td>\n",
              "      <td>1</td>\n",
              "      <td>1</td>\n",
              "      <td>0</td>\n",
              "      <td>0</td>\n",
              "      <td>1</td>\n",
              "      <td>0</td>\n",
              "      <td>0</td>\n",
              "      <td>0</td>\n",
              "      <td>0</td>\n",
              "      <td>1</td>\n",
              "      <td>0</td>\n",
              "      <td>0</td>\n",
              "      <td>0</td>\n",
              "      <td>0</td>\n",
              "      <td>0</td>\n",
              "      <td>0</td>\n",
              "      <td>1</td>\n",
              "      <td>0</td>\n",
              "      <td>0</td>\n",
              "      <td>0</td>\n",
              "      <td>0</td>\n",
              "      <td>0</td>\n",
              "      <td>0</td>\n",
              "      <td>0</td>\n",
              "      <td>0</td>\n",
              "      <td>1</td>\n",
              "    </tr>\n",
              "    <tr>\n",
              "      <th>3</th>\n",
              "      <td>2018</td>\n",
              "      <td>5.0</td>\n",
              "      <td>34.0</td>\n",
              "      <td>0</td>\n",
              "      <td>0</td>\n",
              "      <td>0</td>\n",
              "      <td>0</td>\n",
              "      <td>0</td>\n",
              "      <td>1</td>\n",
              "      <td>0</td>\n",
              "      <td>1</td>\n",
              "      <td>0</td>\n",
              "      <td>0</td>\n",
              "      <td>0</td>\n",
              "      <td>0</td>\n",
              "      <td>0</td>\n",
              "      <td>1</td>\n",
              "      <td>0</td>\n",
              "      <td>0</td>\n",
              "      <td>0</td>\n",
              "      <td>0</td>\n",
              "      <td>1</td>\n",
              "      <td>0</td>\n",
              "      <td>0</td>\n",
              "      <td>0</td>\n",
              "      <td>0</td>\n",
              "      <td>0</td>\n",
              "      <td>1</td>\n",
              "      <td>0</td>\n",
              "      <td>0</td>\n",
              "      <td>0</td>\n",
              "      <td>0</td>\n",
              "      <td>0</td>\n",
              "      <td>0</td>\n",
              "    </tr>\n",
              "    <tr>\n",
              "      <th>4</th>\n",
              "      <td>2018</td>\n",
              "      <td>8.0</td>\n",
              "      <td>26.0</td>\n",
              "      <td>0</td>\n",
              "      <td>0</td>\n",
              "      <td>0</td>\n",
              "      <td>0</td>\n",
              "      <td>1</td>\n",
              "      <td>0</td>\n",
              "      <td>1</td>\n",
              "      <td>0</td>\n",
              "      <td>0</td>\n",
              "      <td>0</td>\n",
              "      <td>0</td>\n",
              "      <td>0</td>\n",
              "      <td>0</td>\n",
              "      <td>0</td>\n",
              "      <td>1</td>\n",
              "      <td>0</td>\n",
              "      <td>0</td>\n",
              "      <td>0</td>\n",
              "      <td>1</td>\n",
              "      <td>0</td>\n",
              "      <td>0</td>\n",
              "      <td>0</td>\n",
              "      <td>0</td>\n",
              "      <td>0</td>\n",
              "      <td>0</td>\n",
              "      <td>0</td>\n",
              "      <td>1</td>\n",
              "      <td>0</td>\n",
              "      <td>0</td>\n",
              "      <td>0</td>\n",
              "      <td>0</td>\n",
              "    </tr>\n",
              "  </tbody>\n",
              "</table>\n",
              "</div>"
            ],
            "text/plain": [
              "   year  ...  Type_of_Job_Self employed\n",
              "0  2018  ...                          1\n",
              "1  2018  ...                          0\n",
              "2  2018  ...                          1\n",
              "3  2018  ...                          0\n",
              "4  2018  ...                          0\n",
              "\n",
              "[5 rows x 34 columns]"
            ]
          },
          "metadata": {
            "tags": []
          },
          "execution_count": 40
        }
      ]
    },
    {
      "cell_type": "code",
      "metadata": {
        "id": "J8oPtmF4obbl",
        "colab_type": "code",
        "colab": {}
      },
      "source": [
        "X = new_finance.drop('Has_a_Bank_account_Yes', 1)\n",
        "y = new_finance['Has_a_Bank_account_Yes']"
      ],
      "execution_count": 0,
      "outputs": []
    },
    {
      "cell_type": "code",
      "metadata": {
        "id": "eADtUYZIpPZ6",
        "colab_type": "code",
        "colab": {}
      },
      "source": [
        "from sklearn.model_selection import train_test_split\n",
        "X_train, X_test, y_train, y_test = train_test_split(X, y, test_size=0.2, random_state=0)"
      ],
      "execution_count": 0,
      "outputs": []
    },
    {
      "cell_type": "code",
      "metadata": {
        "id": "Bi3dLEbNpWhl",
        "colab_type": "code",
        "colab": {}
      },
      "source": [
        "from sklearn.preprocessing import StandardScaler\n",
        "sc = StandardScaler()\n",
        "X_train = sc.fit_transform(X_train)\n",
        "X_test = sc.transform(X_test)"
      ],
      "execution_count": 0,
      "outputs": []
    },
    {
      "cell_type": "code",
      "metadata": {
        "id": "GqY9zQdnpeeB",
        "colab_type": "code",
        "colab": {}
      },
      "source": [
        "from sklearn.decomposition import PCA\n",
        "\n",
        "pca = PCA()\n",
        "X_train = pca.fit_transform(X_train)\n",
        "X_test = pca.transform(X_test)"
      ],
      "execution_count": 0,
      "outputs": []
    },
    {
      "cell_type": "code",
      "metadata": {
        "id": "xMmr_QVHpizp",
        "colab_type": "code",
        "colab": {
          "base_uri": "https://localhost:8080/",
          "height": 173
        },
        "outputId": "70b9e945-d8c2-4f72-e0b0-0200e87313c0"
      },
      "source": [
        "explained_variance = pca.explained_variance_ratio_\n",
        "explained_variance\n"
      ],
      "execution_count": 46,
      "outputs": [
        {
          "output_type": "execute_result",
          "data": {
            "text/plain": [
              "array([1.09494592e-01, 8.09234724e-02, 6.62287621e-02, 6.17356393e-02,\n",
              "       5.69083179e-02, 4.50482123e-02, 3.98088203e-02, 3.76794364e-02,\n",
              "       3.66984396e-02, 3.37117670e-02, 3.23258882e-02, 3.09208875e-02,\n",
              "       3.05256033e-02, 3.03304702e-02, 3.00391625e-02, 2.95890314e-02,\n",
              "       2.93539661e-02, 2.88375089e-02, 2.68890878e-02, 2.45980478e-02,\n",
              "       2.34060177e-02, 2.26663871e-02, 1.91470948e-02, 1.81702482e-02,\n",
              "       1.54472563e-02, 1.27754037e-02, 1.06360746e-02, 9.43626373e-03,\n",
              "       3.59368299e-03, 2.79000937e-03, 2.23102851e-04, 6.13456605e-05,\n",
              "       1.67187329e-31])"
            ]
          },
          "metadata": {
            "tags": []
          },
          "execution_count": 46
        }
      ]
    },
    {
      "cell_type": "code",
      "metadata": {
        "id": "DzBC1pWYpnJT",
        "colab_type": "code",
        "colab": {}
      },
      "source": [
        "from sklearn.decomposition import PCA\n",
        "\n",
        "pca = PCA(n_components=1)\n",
        "X_train = pca.fit_transform(X_train)\n",
        "X_test = pca.transform(X_test)"
      ],
      "execution_count": 0,
      "outputs": []
    },
    {
      "cell_type": "code",
      "metadata": {
        "id": "WBRTUqPnpw0Y",
        "colab_type": "code",
        "colab": {
          "base_uri": "https://localhost:8080/",
          "height": 72
        },
        "outputId": "a2194d87-25d4-46cf-b396-4447ff0f77f1"
      },
      "source": [
        "from sklearn.ensemble import RandomForestClassifier\n",
        "\n",
        "classifier = RandomForestClassifier(max_depth=2, random_state=0)\n",
        "classifier.fit(X_train, y_train)\n",
        "\n",
        "y_pred = classifier.predict(X_test)"
      ],
      "execution_count": 49,
      "outputs": [
        {
          "output_type": "stream",
          "text": [
            "/usr/local/lib/python3.6/dist-packages/sklearn/ensemble/forest.py:245: FutureWarning: The default value of n_estimators will change from 10 in version 0.20 to 100 in 0.22.\n",
            "  \"10 in version 0.20 to 100 in 0.22.\", FutureWarning)\n"
          ],
          "name": "stderr"
        }
      ]
    },
    {
      "cell_type": "code",
      "metadata": {
        "id": "XWsQQcvfp4Qz",
        "colab_type": "code",
        "colab": {
          "base_uri": "https://localhost:8080/",
          "height": 69
        },
        "outputId": "9d102280-ee95-4acd-daf5-b6aa3ccb1522"
      },
      "source": [
        "from sklearn.metrics import confusion_matrix\n",
        "from sklearn.metrics import accuracy_score\n",
        "\n",
        "cm = confusion_matrix(y_test, y_pred)\n",
        "print(cm)\n",
        "print('Accuracy', accuracy_score(y_test, y_pred))\n"
      ],
      "execution_count": 50,
      "outputs": [
        {
          "output_type": "stream",
          "text": [
            "[[4036    0]\n",
            " [ 632    0]]\n",
            "Accuracy 0.8646101113967438\n"
          ],
          "name": "stdout"
        }
      ]
    },
    {
      "cell_type": "code",
      "metadata": {
        "id": "x-Gyc2rswDu2",
        "colab_type": "code",
        "colab": {
          "base_uri": "https://localhost:8080/",
          "height": 34
        },
        "outputId": "3be0878d-3244-468b-b9b8-ad95e6fd309f"
      },
      "source": [
        "from factor_analyzer.factor_analyzer import calculate_bartlett_sphericity\n",
        "\n",
        "chi_square_value,p_value=calculate_bartlett_sphericity(new_finance)\n",
        "chi_square_value, p_value\n"
      ],
      "execution_count": 55,
      "outputs": [
        {
          "output_type": "execute_result",
          "data": {
            "text/plain": [
              "(1059927.4278613348, 0.0)"
            ]
          },
          "metadata": {
            "tags": []
          },
          "execution_count": 55
        }
      ]
    },
    {
      "cell_type": "code",
      "metadata": {
        "id": "zupOpxbtwkam",
        "colab_type": "code",
        "colab": {
          "base_uri": "https://localhost:8080/",
          "height": 52
        },
        "outputId": "d9b7d9ec-45f8-4d60-bd7f-bc05cfd5b42b"
      },
      "source": [
        "from factor_analyzer.factor_analyzer import calculate_kmo\n",
        "\n",
        "kmo_all,kmo_model=calculate_kmo(new_finance)"
      ],
      "execution_count": 56,
      "outputs": [
        {
          "output_type": "stream",
          "text": [
            "/usr/local/lib/python3.6/dist-packages/factor_analyzer/factor_analyzer.py:50: RuntimeWarning: invalid value encountered in sqrt\n",
            "  Is = np.sqrt(1 / np.diag(m))\n"
          ],
          "name": "stderr"
        }
      ]
    },
    {
      "cell_type": "code",
      "metadata": {
        "id": "gdvZTipKwqy2",
        "colab_type": "code",
        "colab": {}
      },
      "source": [
        ""
      ],
      "execution_count": 0,
      "outputs": []
    },
    {
      "cell_type": "code",
      "metadata": {
        "id": "hFMTukwmwv3d",
        "colab_type": "code",
        "colab": {}
      },
      "source": [
        "from factor_analyzer import FactorAnalyzer"
      ],
      "execution_count": 0,
      "outputs": []
    },
    {
      "cell_type": "code",
      "metadata": {
        "id": "xhVOypmUwxLk",
        "colab_type": "code",
        "colab": {
          "base_uri": "https://localhost:8080/",
          "height": 1000
        },
        "outputId": "1c1e4644-7c85-421d-d33a-a05e11170145"
      },
      "source": [
        "fa = FactorAnalyzer()\n",
        "fa.analyze(new_finance, 25, rotation=None)\n",
        "\n",
        "ev, v = fa.get_eigenvalues()\n",
        "ev"
      ],
      "execution_count": 64,
      "outputs": [
        {
          "output_type": "execute_result",
          "data": {
            "text/html": [
              "<div>\n",
              "<style scoped>\n",
              "    .dataframe tbody tr th:only-of-type {\n",
              "        vertical-align: middle;\n",
              "    }\n",
              "\n",
              "    .dataframe tbody tr th {\n",
              "        vertical-align: top;\n",
              "    }\n",
              "\n",
              "    .dataframe thead th {\n",
              "        text-align: right;\n",
              "    }\n",
              "</style>\n",
              "<table border=\"1\" class=\"dataframe\">\n",
              "  <thead>\n",
              "    <tr style=\"text-align: right;\">\n",
              "      <th></th>\n",
              "      <th>Original_Eigenvalues</th>\n",
              "    </tr>\n",
              "  </thead>\n",
              "  <tbody>\n",
              "    <tr>\n",
              "      <th>0</th>\n",
              "      <td>3.613916e+00</td>\n",
              "    </tr>\n",
              "    <tr>\n",
              "      <th>1</th>\n",
              "      <td>2.676789e+00</td>\n",
              "    </tr>\n",
              "    <tr>\n",
              "      <th>2</th>\n",
              "      <td>2.336850e+00</td>\n",
              "    </tr>\n",
              "    <tr>\n",
              "      <th>3</th>\n",
              "      <td>2.120603e+00</td>\n",
              "    </tr>\n",
              "    <tr>\n",
              "      <th>4</th>\n",
              "      <td>1.874679e+00</td>\n",
              "    </tr>\n",
              "    <tr>\n",
              "      <th>5</th>\n",
              "      <td>1.601792e+00</td>\n",
              "    </tr>\n",
              "    <tr>\n",
              "      <th>6</th>\n",
              "      <td>1.315702e+00</td>\n",
              "    </tr>\n",
              "    <tr>\n",
              "      <th>7</th>\n",
              "      <td>1.252006e+00</td>\n",
              "    </tr>\n",
              "    <tr>\n",
              "      <th>8</th>\n",
              "      <td>1.215640e+00</td>\n",
              "    </tr>\n",
              "    <tr>\n",
              "      <th>9</th>\n",
              "      <td>1.116583e+00</td>\n",
              "    </tr>\n",
              "    <tr>\n",
              "      <th>10</th>\n",
              "      <td>1.082401e+00</td>\n",
              "    </tr>\n",
              "    <tr>\n",
              "      <th>11</th>\n",
              "      <td>1.016294e+00</td>\n",
              "    </tr>\n",
              "    <tr>\n",
              "      <th>12</th>\n",
              "      <td>1.009622e+00</td>\n",
              "    </tr>\n",
              "    <tr>\n",
              "      <th>13</th>\n",
              "      <td>1.000514e+00</td>\n",
              "    </tr>\n",
              "    <tr>\n",
              "      <th>14</th>\n",
              "      <td>9.939442e-01</td>\n",
              "    </tr>\n",
              "    <tr>\n",
              "      <th>15</th>\n",
              "      <td>9.741279e-01</td>\n",
              "    </tr>\n",
              "    <tr>\n",
              "      <th>16</th>\n",
              "      <td>9.657230e-01</td>\n",
              "    </tr>\n",
              "    <tr>\n",
              "      <th>17</th>\n",
              "      <td>9.512204e-01</td>\n",
              "    </tr>\n",
              "    <tr>\n",
              "      <th>18</th>\n",
              "      <td>8.910477e-01</td>\n",
              "    </tr>\n",
              "    <tr>\n",
              "      <th>19</th>\n",
              "      <td>8.221694e-01</td>\n",
              "    </tr>\n",
              "    <tr>\n",
              "      <th>20</th>\n",
              "      <td>7.782898e-01</td>\n",
              "    </tr>\n",
              "    <tr>\n",
              "      <th>21</th>\n",
              "      <td>7.501882e-01</td>\n",
              "    </tr>\n",
              "    <tr>\n",
              "      <th>22</th>\n",
              "      <td>6.547810e-01</td>\n",
              "    </tr>\n",
              "    <tr>\n",
              "      <th>23</th>\n",
              "      <td>6.323895e-01</td>\n",
              "    </tr>\n",
              "    <tr>\n",
              "      <th>24</th>\n",
              "      <td>5.645837e-01</td>\n",
              "    </tr>\n",
              "    <tr>\n",
              "      <th>25</th>\n",
              "      <td>4.953587e-01</td>\n",
              "    </tr>\n",
              "    <tr>\n",
              "      <th>26</th>\n",
              "      <td>4.211553e-01</td>\n",
              "    </tr>\n",
              "    <tr>\n",
              "      <th>27</th>\n",
              "      <td>3.489323e-01</td>\n",
              "    </tr>\n",
              "    <tr>\n",
              "      <th>28</th>\n",
              "      <td>3.032280e-01</td>\n",
              "    </tr>\n",
              "    <tr>\n",
              "      <th>29</th>\n",
              "      <td>1.187398e-01</td>\n",
              "    </tr>\n",
              "    <tr>\n",
              "      <th>30</th>\n",
              "      <td>9.231388e-02</td>\n",
              "    </tr>\n",
              "    <tr>\n",
              "      <th>31</th>\n",
              "      <td>6.591467e-03</td>\n",
              "    </tr>\n",
              "    <tr>\n",
              "      <th>32</th>\n",
              "      <td>1.824331e-03</td>\n",
              "    </tr>\n",
              "    <tr>\n",
              "      <th>33</th>\n",
              "      <td>1.996913e-13</td>\n",
              "    </tr>\n",
              "  </tbody>\n",
              "</table>\n",
              "</div>"
            ],
            "text/plain": [
              "    Original_Eigenvalues\n",
              "0           3.613916e+00\n",
              "1           2.676789e+00\n",
              "2           2.336850e+00\n",
              "3           2.120603e+00\n",
              "4           1.874679e+00\n",
              "5           1.601792e+00\n",
              "6           1.315702e+00\n",
              "7           1.252006e+00\n",
              "8           1.215640e+00\n",
              "9           1.116583e+00\n",
              "10          1.082401e+00\n",
              "11          1.016294e+00\n",
              "12          1.009622e+00\n",
              "13          1.000514e+00\n",
              "14          9.939442e-01\n",
              "15          9.741279e-01\n",
              "16          9.657230e-01\n",
              "17          9.512204e-01\n",
              "18          8.910477e-01\n",
              "19          8.221694e-01\n",
              "20          7.782898e-01\n",
              "21          7.501882e-01\n",
              "22          6.547810e-01\n",
              "23          6.323895e-01\n",
              "24          5.645837e-01\n",
              "25          4.953587e-01\n",
              "26          4.211553e-01\n",
              "27          3.489323e-01\n",
              "28          3.032280e-01\n",
              "29          1.187398e-01\n",
              "30          9.231388e-02\n",
              "31          6.591467e-03\n",
              "32          1.824331e-03\n",
              "33          1.996913e-13"
            ]
          },
          "metadata": {
            "tags": []
          },
          "execution_count": 64
        }
      ]
    },
    {
      "cell_type": "code",
      "metadata": {
        "id": "rYM3x0VdHla-",
        "colab_type": "code",
        "colab": {
          "base_uri": "https://localhost:8080/",
          "height": 295
        },
        "outputId": "9503ccbc-4a97-49a3-cbb3-d6d67a6de73c"
      },
      "source": [
        "plt.scatter(range(1,new_finance.shape[1]+1),ev)\n",
        "plt.plot(range(1,new_finance.shape[1]+1),ev)\n",
        "plt.title('Scree Plot')\n",
        "plt.xlabel('Factors')\n",
        "plt.ylabel('Eigenvalue')\n",
        "plt.grid()\n",
        "plt.show()"
      ],
      "execution_count": 65,
      "outputs": [
        {
          "output_type": "display_data",
          "data": {
            "image/png": "[encoded data removed]",
            "text/plain": [
              "<Figure size 432x288 with 1 Axes>"
            ]
          },
          "metadata": {
            "tags": []
          }
        }
      ]
    },
    {
      "cell_type": "code",
      "metadata": {
        "id": "XcmwCuqbH2Qc",
        "colab_type": "code",
        "colab": {
          "base_uri": "https://localhost:8080/",
          "height": 1000
        },
        "outputId": "da0db202-d82d-40e4-b1af-18d6fe28473b"
      },
      "source": [
        "fa = FactorAnalyzer()\n",
        "fa.analyze(new_finance, 6, rotation=\"varimax\")\n",
        "fa.loadings"
      ],
      "execution_count": 67,
      "outputs": [
        {
          "output_type": "execute_result",
          "data": {
            "text/html": [
              "<div>\n",
              "<style scoped>\n",
              "    .dataframe tbody tr th:only-of-type {\n",
              "        vertical-align: middle;\n",
              "    }\n",
              "\n",
              "    .dataframe tbody tr th {\n",
              "        vertical-align: top;\n",
              "    }\n",
              "\n",
              "    .dataframe thead th {\n",
              "        text-align: right;\n",
              "    }\n",
              "</style>\n",
              "<table border=\"1\" class=\"dataframe\">\n",
              "  <thead>\n",
              "    <tr style=\"text-align: right;\">\n",
              "      <th></th>\n",
              "      <th>Factor1</th>\n",
              "      <th>Factor2</th>\n",
              "      <th>Factor3</th>\n",
              "      <th>Factor4</th>\n",
              "      <th>Factor5</th>\n",
              "      <th>Factor6</th>\n",
              "    </tr>\n",
              "  </thead>\n",
              "  <tbody>\n",
              "    <tr>\n",
              "      <th>year</th>\n",
              "      <td>0.248878</td>\n",
              "      <td>-0.015401</td>\n",
              "      <td>0.822399</td>\n",
              "      <td>0.057293</td>\n",
              "      <td>-0.045526</td>\n",
              "      <td>0.206360</td>\n",
              "    </tr>\n",
              "    <tr>\n",
              "      <th>household_size</th>\n",
              "      <td>-0.533214</td>\n",
              "      <td>-0.185607</td>\n",
              "      <td>0.121496</td>\n",
              "      <td>-0.095612</td>\n",
              "      <td>-0.049260</td>\n",
              "      <td>-0.053928</td>\n",
              "    </tr>\n",
              "    <tr>\n",
              "      <th>Respondent_Age</th>\n",
              "      <td>0.003644</td>\n",
              "      <td>0.586938</td>\n",
              "      <td>0.005542</td>\n",
              "      <td>0.114544</td>\n",
              "      <td>0.428759</td>\n",
              "      <td>-0.052258</td>\n",
              "    </tr>\n",
              "    <tr>\n",
              "      <th>country_Rwanda</th>\n",
              "      <td>-0.644694</td>\n",
              "      <td>-0.000921</td>\n",
              "      <td>-0.703006</td>\n",
              "      <td>-0.029154</td>\n",
              "      <td>0.057037</td>\n",
              "      <td>-0.166314</td>\n",
              "    </tr>\n",
              "    <tr>\n",
              "      <th>country_Tanzania</th>\n",
              "      <td>0.846011</td>\n",
              "      <td>0.025619</td>\n",
              "      <td>-0.136935</td>\n",
              "      <td>-0.041377</td>\n",
              "      <td>-0.051602</td>\n",
              "      <td>-0.049869</td>\n",
              "    </tr>\n",
              "    <tr>\n",
              "      <th>country_Uganda</th>\n",
              "      <td>-0.117032</td>\n",
              "      <td>-0.066921</td>\n",
              "      <td>0.580264</td>\n",
              "      <td>0.008226</td>\n",
              "      <td>-0.032048</td>\n",
              "      <td>-0.085366</td>\n",
              "    </tr>\n",
              "    <tr>\n",
              "      <th>Has_a_Bank_account_Yes</th>\n",
              "      <td>0.001860</td>\n",
              "      <td>-0.071778</td>\n",
              "      <td>-0.010416</td>\n",
              "      <td>0.093227</td>\n",
              "      <td>0.088714</td>\n",
              "      <td>0.560403</td>\n",
              "    </tr>\n",
              "    <tr>\n",
              "      <th>Type_of_Location_Urban</th>\n",
              "      <td>0.520700</td>\n",
              "      <td>-0.029407</td>\n",
              "      <td>0.073888</td>\n",
              "      <td>0.002651</td>\n",
              "      <td>-0.099727</td>\n",
              "      <td>0.157764</td>\n",
              "    </tr>\n",
              "    <tr>\n",
              "      <th>Cell_Phone_Access_Yes</th>\n",
              "      <td>-0.192785</td>\n",
              "      <td>-0.226395</td>\n",
              "      <td>-0.099670</td>\n",
              "      <td>0.103850</td>\n",
              "      <td>0.074817</td>\n",
              "      <td>0.279165</td>\n",
              "    </tr>\n",
              "    <tr>\n",
              "      <th>gender_of_respondent_Male</th>\n",
              "      <td>-0.009589</td>\n",
              "      <td>-0.150048</td>\n",
              "      <td>-0.060800</td>\n",
              "      <td>0.529818</td>\n",
              "      <td>0.027700</td>\n",
              "      <td>0.170239</td>\n",
              "    </tr>\n",
              "    <tr>\n",
              "      <th>The_relationship_with_head_Head of Household</th>\n",
              "      <td>0.069981</td>\n",
              "      <td>0.353427</td>\n",
              "      <td>-0.031135</td>\n",
              "      <td>0.749042</td>\n",
              "      <td>0.391508</td>\n",
              "      <td>0.135828</td>\n",
              "    </tr>\n",
              "    <tr>\n",
              "      <th>The_relationship_with_head_Other non-relatives</th>\n",
              "      <td>0.002118</td>\n",
              "      <td>-0.063679</td>\n",
              "      <td>-0.030300</td>\n",
              "      <td>0.014566</td>\n",
              "      <td>-0.098254</td>\n",
              "      <td>-0.008046</td>\n",
              "    </tr>\n",
              "    <tr>\n",
              "      <th>The_relationship_with_head_Other relative</th>\n",
              "      <td>0.018530</td>\n",
              "      <td>-0.056223</td>\n",
              "      <td>0.069107</td>\n",
              "      <td>0.008538</td>\n",
              "      <td>-0.220313</td>\n",
              "      <td>-0.013880</td>\n",
              "    </tr>\n",
              "    <tr>\n",
              "      <th>The_relationship_with_head_Parent</th>\n",
              "      <td>0.068193</td>\n",
              "      <td>-0.093980</td>\n",
              "      <td>0.039264</td>\n",
              "      <td>-0.000711</td>\n",
              "      <td>-0.249769</td>\n",
              "      <td>-0.078680</td>\n",
              "    </tr>\n",
              "    <tr>\n",
              "      <th>The_relationship_with_head_Spouse</th>\n",
              "      <td>-0.009657</td>\n",
              "      <td>-0.196300</td>\n",
              "      <td>0.047351</td>\n",
              "      <td>-0.937664</td>\n",
              "      <td>0.232401</td>\n",
              "      <td>-0.009905</td>\n",
              "    </tr>\n",
              "    <tr>\n",
              "      <th>marital_status_Dont know</th>\n",
              "      <td>0.004497</td>\n",
              "      <td>-0.002979</td>\n",
              "      <td>0.011046</td>\n",
              "      <td>0.018239</td>\n",
              "      <td>0.002662</td>\n",
              "      <td>0.003363</td>\n",
              "    </tr>\n",
              "    <tr>\n",
              "      <th>marital_status_Married/Living together</th>\n",
              "      <td>-0.533631</td>\n",
              "      <td>-0.211757</td>\n",
              "      <td>0.174213</td>\n",
              "      <td>-0.182497</td>\n",
              "      <td>0.520051</td>\n",
              "      <td>0.201236</td>\n",
              "    </tr>\n",
              "    <tr>\n",
              "      <th>marital_status_Single/Never Married</th>\n",
              "      <td>0.467767</td>\n",
              "      <td>-0.204882</td>\n",
              "      <td>-0.165119</td>\n",
              "      <td>0.043732</td>\n",
              "      <td>-0.487573</td>\n",
              "      <td>-0.033731</td>\n",
              "    </tr>\n",
              "    <tr>\n",
              "      <th>marital_status_Widowed</th>\n",
              "      <td>0.012574</td>\n",
              "      <td>0.583839</td>\n",
              "      <td>-0.011230</td>\n",
              "      <td>0.117531</td>\n",
              "      <td>0.086737</td>\n",
              "      <td>-0.202220</td>\n",
              "    </tr>\n",
              "    <tr>\n",
              "      <th>Level_of_Education_No formal education</th>\n",
              "      <td>-0.105266</td>\n",
              "      <td>0.655641</td>\n",
              "      <td>-0.032551</td>\n",
              "      <td>-0.142603</td>\n",
              "      <td>0.020077</td>\n",
              "      <td>-0.067743</td>\n",
              "    </tr>\n",
              "    <tr>\n",
              "      <th>Level_of_Education_Other/Dont know/RTA</th>\n",
              "      <td>0.000341</td>\n",
              "      <td>-0.000187</td>\n",
              "      <td>0.013048</td>\n",
              "      <td>0.004485</td>\n",
              "      <td>0.007056</td>\n",
              "      <td>0.033717</td>\n",
              "    </tr>\n",
              "    <tr>\n",
              "      <th>Level_of_Education_Primary education</th>\n",
              "      <td>0.214306</td>\n",
              "      <td>-0.590910</td>\n",
              "      <td>-0.049090</td>\n",
              "      <td>0.148032</td>\n",
              "      <td>0.472927</td>\n",
              "      <td>-0.617533</td>\n",
              "    </tr>\n",
              "    <tr>\n",
              "      <th>Level_of_Education_Secondary education</th>\n",
              "      <td>-0.204237</td>\n",
              "      <td>-0.061934</td>\n",
              "      <td>0.118097</td>\n",
              "      <td>0.017781</td>\n",
              "      <td>-0.406319</td>\n",
              "      <td>0.275045</td>\n",
              "    </tr>\n",
              "    <tr>\n",
              "      <th>Level_of_Education_Tertiary education</th>\n",
              "      <td>0.150079</td>\n",
              "      <td>-0.022145</td>\n",
              "      <td>-0.078136</td>\n",
              "      <td>-0.002365</td>\n",
              "      <td>-0.073090</td>\n",
              "      <td>0.325498</td>\n",
              "    </tr>\n",
              "    <tr>\n",
              "      <th>Level_of_Education_Vocational/Specialised training</th>\n",
              "      <td>0.026723</td>\n",
              "      <td>-0.020803</td>\n",
              "      <td>0.058777</td>\n",
              "      <td>0.012951</td>\n",
              "      <td>0.001154</td>\n",
              "      <td>0.294406</td>\n",
              "    </tr>\n",
              "    <tr>\n",
              "      <th>Type_of_Job_Farming and Fishing</th>\n",
              "      <td>-0.415717</td>\n",
              "      <td>0.086083</td>\n",
              "      <td>-0.190973</td>\n",
              "      <td>-0.020564</td>\n",
              "      <td>0.184724</td>\n",
              "      <td>-0.068985</td>\n",
              "    </tr>\n",
              "    <tr>\n",
              "      <th>Type_of_Job_Formally employed Government</th>\n",
              "      <td>-0.022828</td>\n",
              "      <td>-0.025567</td>\n",
              "      <td>-0.009848</td>\n",
              "      <td>0.010129</td>\n",
              "      <td>0.038516</td>\n",
              "      <td>0.292742</td>\n",
              "    </tr>\n",
              "    <tr>\n",
              "      <th>Type_of_Job_Formally employed Private</th>\n",
              "      <td>0.067726</td>\n",
              "      <td>-0.065616</td>\n",
              "      <td>0.000487</td>\n",
              "      <td>0.071408</td>\n",
              "      <td>-0.020661</td>\n",
              "      <td>0.314464</td>\n",
              "    </tr>\n",
              "    <tr>\n",
              "      <th>Type_of_Job_Government Dependent</th>\n",
              "      <td>0.031103</td>\n",
              "      <td>0.174060</td>\n",
              "      <td>-0.009911</td>\n",
              "      <td>0.018984</td>\n",
              "      <td>0.036052</td>\n",
              "      <td>-0.025076</td>\n",
              "    </tr>\n",
              "    <tr>\n",
              "      <th>Type_of_Job_Informally employed</th>\n",
              "      <td>-0.075249</td>\n",
              "      <td>-0.069931</td>\n",
              "      <td>-0.189362</td>\n",
              "      <td>0.044852</td>\n",
              "      <td>-0.008440</td>\n",
              "      <td>-0.099846</td>\n",
              "    </tr>\n",
              "    <tr>\n",
              "      <th>Type_of_Job_No Income</th>\n",
              "      <td>0.077235</td>\n",
              "      <td>0.009424</td>\n",
              "      <td>0.130801</td>\n",
              "      <td>-0.078256</td>\n",
              "      <td>-0.117718</td>\n",
              "      <td>-0.082452</td>\n",
              "    </tr>\n",
              "    <tr>\n",
              "      <th>Type_of_Job_Other Income</th>\n",
              "      <td>-0.114088</td>\n",
              "      <td>-0.012344</td>\n",
              "      <td>0.237271</td>\n",
              "      <td>0.030694</td>\n",
              "      <td>-0.059468</td>\n",
              "      <td>-0.028602</td>\n",
              "    </tr>\n",
              "    <tr>\n",
              "      <th>Type_of_Job_Remittance Dependent</th>\n",
              "      <td>0.023095</td>\n",
              "      <td>0.068479</td>\n",
              "      <td>0.034550</td>\n",
              "      <td>-0.094453</td>\n",
              "      <td>-0.256922</td>\n",
              "      <td>-0.000671</td>\n",
              "    </tr>\n",
              "    <tr>\n",
              "      <th>Type_of_Job_Self employed</th>\n",
              "      <td>0.454606</td>\n",
              "      <td>-0.061050</td>\n",
              "      <td>0.177883</td>\n",
              "      <td>0.013199</td>\n",
              "      <td>0.092225</td>\n",
              "      <td>-0.017960</td>\n",
              "    </tr>\n",
              "  </tbody>\n",
              "</table>\n",
              "</div>"
            ],
            "text/plain": [
              "                                                     Factor1  ...   Factor6\n",
              "year                                                0.248878  ...  0.206360\n",
              "household_size                                     -0.533214  ... -0.053928\n",
              "Respondent_Age                                      0.003644  ... -0.052258\n",
              "country_Rwanda                                     -0.644694  ... -0.166314\n",
              "country_Tanzania                                    0.846011  ... -0.049869\n",
              "country_Uganda                                     -0.117032  ... -0.085366\n",
              "Has_a_Bank_account_Yes                              0.001860  ...  0.560403\n",
              "Type_of_Location_Urban                              0.520700  ...  0.157764\n",
              "Cell_Phone_Access_Yes                              -0.192785  ...  0.279165\n",
              "gender_of_respondent_Male                          -0.009589  ...  0.170239\n",
              "The_relationship_with_head_Head of Household        0.069981  ...  0.135828\n",
              "The_relationship_with_head_Other non-relatives      0.002118  ... -0.008046\n",
              "The_relationship_with_head_Other relative           0.018530  ... -0.013880\n",
              "The_relationship_with_head_Parent                   0.068193  ... -0.078680\n",
              "The_relationship_with_head_Spouse                  -0.009657  ... -0.009905\n",
              "marital_status_Dont know                            0.004497  ...  0.003363\n",
              "marital_status_Married/Living together             -0.533631  ...  0.201236\n",
              "marital_status_Single/Never Married                 0.467767  ... -0.033731\n",
              "marital_status_Widowed                              0.012574  ... -0.202220\n",
              "Level_of_Education_No formal education             -0.105266  ... -0.067743\n",
              "Level_of_Education_Other/Dont know/RTA              0.000341  ...  0.033717\n",
              "Level_of_Education_Primary education                0.214306  ... -0.617533\n",
              "Level_of_Education_Secondary education             -0.204237  ...  0.275045\n",
              "Level_of_Education_Tertiary education               0.150079  ...  0.325498\n",
              "Level_of_Education_Vocational/Specialised training  0.026723  ...  0.294406\n",
              "Type_of_Job_Farming and Fishing                    -0.415717  ... -0.068985\n",
              "Type_of_Job_Formally employed Government           -0.022828  ...  0.292742\n",
              "Type_of_Job_Formally employed Private               0.067726  ...  0.314464\n",
              "Type_of_Job_Government Dependent                    0.031103  ... -0.025076\n",
              "Type_of_Job_Informally employed                    -0.075249  ... -0.099846\n",
              "Type_of_Job_No Income                               0.077235  ... -0.082452\n",
              "Type_of_Job_Other Income                           -0.114088  ... -0.028602\n",
              "Type_of_Job_Remittance Dependent                    0.023095  ... -0.000671\n",
              "Type_of_Job_Self employed                           0.454606  ... -0.017960\n",
              "\n",
              "[34 rows x 6 columns]"
            ]
          },
          "metadata": {
            "tags": []
          },
          "execution_count": 67
        }
      ]
    },
    {
      "cell_type": "code",
      "metadata": {
        "id": "HJ_y1kySICui",
        "colab_type": "code",
        "colab": {
          "base_uri": "https://localhost:8080/",
          "height": 1000
        },
        "outputId": "5453c8f2-31f3-49b3-b476-2122cd1fe9eb"
      },
      "source": [
        "fa = FactorAnalyzer()\n",
        "fa.analyze(new_finance, 5, rotation=\"varimax\")\n",
        "fa.loadings"
      ],
      "execution_count": 68,
      "outputs": [
        {
          "output_type": "execute_result",
          "data": {
            "text/html": [
              "<div>\n",
              "<style scoped>\n",
              "    .dataframe tbody tr th:only-of-type {\n",
              "        vertical-align: middle;\n",
              "    }\n",
              "\n",
              "    .dataframe tbody tr th {\n",
              "        vertical-align: top;\n",
              "    }\n",
              "\n",
              "    .dataframe thead th {\n",
              "        text-align: right;\n",
              "    }\n",
              "</style>\n",
              "<table border=\"1\" class=\"dataframe\">\n",
              "  <thead>\n",
              "    <tr style=\"text-align: right;\">\n",
              "      <th></th>\n",
              "      <th>Factor1</th>\n",
              "      <th>Factor2</th>\n",
              "      <th>Factor3</th>\n",
              "      <th>Factor4</th>\n",
              "      <th>Factor5</th>\n",
              "    </tr>\n",
              "  </thead>\n",
              "  <tbody>\n",
              "    <tr>\n",
              "      <th>year</th>\n",
              "      <td>0.224786</td>\n",
              "      <td>-0.015955</td>\n",
              "      <td>0.817810</td>\n",
              "      <td>0.037901</td>\n",
              "      <td>0.206565</td>\n",
              "    </tr>\n",
              "    <tr>\n",
              "      <th>household_size</th>\n",
              "      <td>-0.492390</td>\n",
              "      <td>-0.186863</td>\n",
              "      <td>0.041622</td>\n",
              "      <td>-0.134023</td>\n",
              "      <td>0.052271</td>\n",
              "    </tr>\n",
              "    <tr>\n",
              "      <th>Respondent_Age</th>\n",
              "      <td>-0.104397</td>\n",
              "      <td>0.640655</td>\n",
              "      <td>0.060737</td>\n",
              "      <td>0.216158</td>\n",
              "      <td>-0.168855</td>\n",
              "    </tr>\n",
              "    <tr>\n",
              "      <th>country_Rwanda</th>\n",
              "      <td>-0.603019</td>\n",
              "      <td>0.000963</td>\n",
              "      <td>-0.770509</td>\n",
              "      <td>-0.034695</td>\n",
              "      <td>-0.090803</td>\n",
              "    </tr>\n",
              "    <tr>\n",
              "      <th>country_Tanzania</th>\n",
              "      <td>0.783339</td>\n",
              "      <td>0.016047</td>\n",
              "      <td>-0.025948</td>\n",
              "      <td>-0.002454</td>\n",
              "      <td>-0.186461</td>\n",
              "    </tr>\n",
              "    <tr>\n",
              "      <th>country_Uganda</th>\n",
              "      <td>-0.100375</td>\n",
              "      <td>-0.050208</td>\n",
              "      <td>0.479813</td>\n",
              "      <td>-0.039220</td>\n",
              "      <td>0.014102</td>\n",
              "    </tr>\n",
              "    <tr>\n",
              "      <th>Has_a_Bank_account_Yes</th>\n",
              "      <td>-0.043334</td>\n",
              "      <td>-0.085096</td>\n",
              "      <td>0.085087</td>\n",
              "      <td>0.181891</td>\n",
              "      <td>0.370647</td>\n",
              "    </tr>\n",
              "    <tr>\n",
              "      <th>Type_of_Location_Urban</th>\n",
              "      <td>0.506791</td>\n",
              "      <td>-0.052341</td>\n",
              "      <td>0.138578</td>\n",
              "      <td>0.012893</td>\n",
              "      <td>0.075000</td>\n",
              "    </tr>\n",
              "    <tr>\n",
              "      <th>Cell_Phone_Access_Yes</th>\n",
              "      <td>-0.212652</td>\n",
              "      <td>-0.226391</td>\n",
              "      <td>-0.062993</td>\n",
              "      <td>0.176313</td>\n",
              "      <td>0.204930</td>\n",
              "    </tr>\n",
              "    <tr>\n",
              "      <th>gender_of_respondent_Male</th>\n",
              "      <td>0.038025</td>\n",
              "      <td>-0.122807</td>\n",
              "      <td>-0.094514</td>\n",
              "      <td>0.518689</td>\n",
              "      <td>0.228475</td>\n",
              "    </tr>\n",
              "    <tr>\n",
              "      <th>The_relationship_with_head_Head of Household</th>\n",
              "      <td>0.035319</td>\n",
              "      <td>0.467259</td>\n",
              "      <td>-0.022330</td>\n",
              "      <td>0.876306</td>\n",
              "      <td>0.111717</td>\n",
              "    </tr>\n",
              "    <tr>\n",
              "      <th>The_relationship_with_head_Other non-relatives</th>\n",
              "      <td>0.037015</td>\n",
              "      <td>-0.076683</td>\n",
              "      <td>-0.052593</td>\n",
              "      <td>-0.027991</td>\n",
              "      <td>0.037655</td>\n",
              "    </tr>\n",
              "    <tr>\n",
              "      <th>The_relationship_with_head_Other relative</th>\n",
              "      <td>0.092036</td>\n",
              "      <td>-0.084886</td>\n",
              "      <td>0.014993</td>\n",
              "      <td>-0.096739</td>\n",
              "      <td>0.099332</td>\n",
              "    </tr>\n",
              "    <tr>\n",
              "      <th>The_relationship_with_head_Parent</th>\n",
              "      <td>0.148093</td>\n",
              "      <td>-0.121367</td>\n",
              "      <td>-0.019717</td>\n",
              "      <td>-0.119813</td>\n",
              "      <td>0.044104</td>\n",
              "    </tr>\n",
              "    <tr>\n",
              "      <th>The_relationship_with_head_Spouse</th>\n",
              "      <td>-0.191810</td>\n",
              "      <td>-0.199375</td>\n",
              "      <td>0.182068</td>\n",
              "      <td>-0.554772</td>\n",
              "      <td>-0.293339</td>\n",
              "    </tr>\n",
              "    <tr>\n",
              "      <th>marital_status_Dont know</th>\n",
              "      <td>0.004997</td>\n",
              "      <td>-0.001423</td>\n",
              "      <td>0.010079</td>\n",
              "      <td>0.017881</td>\n",
              "      <td>0.005079</td>\n",
              "    </tr>\n",
              "    <tr>\n",
              "      <th>marital_status_Married/Living together</th>\n",
              "      <td>-0.704153</td>\n",
              "      <td>-0.146312</td>\n",
              "      <td>0.268312</td>\n",
              "      <td>0.077489</td>\n",
              "      <td>-0.064002</td>\n",
              "    </tr>\n",
              "    <tr>\n",
              "      <th>marital_status_Single/Never Married</th>\n",
              "      <td>0.612421</td>\n",
              "      <td>-0.272864</td>\n",
              "      <td>-0.219133</td>\n",
              "      <td>-0.119695</td>\n",
              "      <td>0.117909</td>\n",
              "    </tr>\n",
              "    <tr>\n",
              "      <th>marital_status_Widowed</th>\n",
              "      <td>0.030644</td>\n",
              "      <td>0.605513</td>\n",
              "      <td>-0.056091</td>\n",
              "      <td>0.045655</td>\n",
              "      <td>-0.114151</td>\n",
              "    </tr>\n",
              "    <tr>\n",
              "      <th>Level_of_Education_No formal education</th>\n",
              "      <td>-0.090094</td>\n",
              "      <td>0.647528</td>\n",
              "      <td>-0.059270</td>\n",
              "      <td>-0.213208</td>\n",
              "      <td>0.003613</td>\n",
              "    </tr>\n",
              "    <tr>\n",
              "      <th>Level_of_Education_Other/Dont know/RTA</th>\n",
              "      <td>-0.003566</td>\n",
              "      <td>-0.001124</td>\n",
              "      <td>0.018940</td>\n",
              "      <td>0.010116</td>\n",
              "      <td>0.024181</td>\n",
              "    </tr>\n",
              "    <tr>\n",
              "      <th>Level_of_Education_Primary education</th>\n",
              "      <td>0.053496</td>\n",
              "      <td>-0.455705</td>\n",
              "      <td>0.011942</td>\n",
              "      <td>0.361314</td>\n",
              "      <td>-0.828066</td>\n",
              "    </tr>\n",
              "    <tr>\n",
              "      <th>Level_of_Education_Secondary education</th>\n",
              "      <td>-0.060266</td>\n",
              "      <td>-0.138948</td>\n",
              "      <td>0.024367</td>\n",
              "      <td>-0.144394</td>\n",
              "      <td>0.477844</td>\n",
              "    </tr>\n",
              "    <tr>\n",
              "      <th>Level_of_Education_Tertiary education</th>\n",
              "      <td>0.148016</td>\n",
              "      <td>-0.056751</td>\n",
              "      <td>-0.017997</td>\n",
              "      <td>0.016460</td>\n",
              "      <td>0.245698</td>\n",
              "    </tr>\n",
              "    <tr>\n",
              "      <th>Level_of_Education_Vocational/Specialised training</th>\n",
              "      <td>0.009801</td>\n",
              "      <td>-0.039754</td>\n",
              "      <td>0.103328</td>\n",
              "      <td>0.045709</td>\n",
              "      <td>0.224925</td>\n",
              "    </tr>\n",
              "    <tr>\n",
              "      <th>Type_of_Job_Farming and Fishing</th>\n",
              "      <td>-0.445962</td>\n",
              "      <td>0.110806</td>\n",
              "      <td>-0.198429</td>\n",
              "      <td>0.025731</td>\n",
              "      <td>-0.079844</td>\n",
              "    </tr>\n",
              "    <tr>\n",
              "      <th>Type_of_Job_Formally employed Government</th>\n",
              "      <td>-0.047847</td>\n",
              "      <td>-0.039950</td>\n",
              "      <td>0.042341</td>\n",
              "      <td>0.060358</td>\n",
              "      <td>0.205138</td>\n",
              "    </tr>\n",
              "    <tr>\n",
              "      <th>Type_of_Job_Formally employed Private</th>\n",
              "      <td>0.061427</td>\n",
              "      <td>-0.084918</td>\n",
              "      <td>0.045633</td>\n",
              "      <td>0.100592</td>\n",
              "      <td>0.247713</td>\n",
              "    </tr>\n",
              "    <tr>\n",
              "      <th>Type_of_Job_Government Dependent</th>\n",
              "      <td>0.028084</td>\n",
              "      <td>0.179718</td>\n",
              "      <td>-0.009885</td>\n",
              "      <td>0.009718</td>\n",
              "      <td>-0.021759</td>\n",
              "    </tr>\n",
              "    <tr>\n",
              "      <th>Type_of_Job_Informally employed</th>\n",
              "      <td>-0.054419</td>\n",
              "      <td>-0.063425</td>\n",
              "      <td>-0.209419</td>\n",
              "      <td>0.036691</td>\n",
              "      <td>-0.068238</td>\n",
              "    </tr>\n",
              "    <tr>\n",
              "      <th>Type_of_Job_No Income</th>\n",
              "      <td>0.104364</td>\n",
              "      <td>-0.004304</td>\n",
              "      <td>0.101576</td>\n",
              "      <td>-0.134274</td>\n",
              "      <td>-0.025134</td>\n",
              "    </tr>\n",
              "    <tr>\n",
              "      <th>Type_of_Job_Other Income</th>\n",
              "      <td>-0.083658</td>\n",
              "      <td>-0.012263</td>\n",
              "      <td>0.178906</td>\n",
              "      <td>-0.018478</td>\n",
              "      <td>0.056240</td>\n",
              "    </tr>\n",
              "    <tr>\n",
              "      <th>Type_of_Job_Remittance Dependent</th>\n",
              "      <td>0.102284</td>\n",
              "      <td>0.022799</td>\n",
              "      <td>-0.014089</td>\n",
              "      <td>-0.210232</td>\n",
              "      <td>0.117940</td>\n",
              "    </tr>\n",
              "    <tr>\n",
              "      <th>Type_of_Job_Self employed</th>\n",
              "      <td>0.385433</td>\n",
              "      <td>-0.038973</td>\n",
              "      <td>0.245402</td>\n",
              "      <td>0.085000</td>\n",
              "      <td>-0.141775</td>\n",
              "    </tr>\n",
              "  </tbody>\n",
              "</table>\n",
              "</div>"
            ],
            "text/plain": [
              "                                                     Factor1  ...   Factor5\n",
              "year                                                0.224786  ...  0.206565\n",
              "household_size                                     -0.492390  ...  0.052271\n",
              "Respondent_Age                                     -0.104397  ... -0.168855\n",
              "country_Rwanda                                     -0.603019  ... -0.090803\n",
              "country_Tanzania                                    0.783339  ... -0.186461\n",
              "country_Uganda                                     -0.100375  ...  0.014102\n",
              "Has_a_Bank_account_Yes                             -0.043334  ...  0.370647\n",
              "Type_of_Location_Urban                              0.506791  ...  0.075000\n",
              "Cell_Phone_Access_Yes                              -0.212652  ...  0.204930\n",
              "gender_of_respondent_Male                           0.038025  ...  0.228475\n",
              "The_relationship_with_head_Head of Household        0.035319  ...  0.111717\n",
              "The_relationship_with_head_Other non-relatives      0.037015  ...  0.037655\n",
              "The_relationship_with_head_Other relative           0.092036  ...  0.099332\n",
              "The_relationship_with_head_Parent                   0.148093  ...  0.044104\n",
              "The_relationship_with_head_Spouse                  -0.191810  ... -0.293339\n",
              "marital_status_Dont know                            0.004997  ...  0.005079\n",
              "marital_status_Married/Living together             -0.704153  ... -0.064002\n",
              "marital_status_Single/Never Married                 0.612421  ...  0.117909\n",
              "marital_status_Widowed                              0.030644  ... -0.114151\n",
              "Level_of_Education_No formal education             -0.090094  ...  0.003613\n",
              "Level_of_Education_Other/Dont know/RTA             -0.003566  ...  0.024181\n",
              "Level_of_Education_Primary education                0.053496  ... -0.828066\n",
              "Level_of_Education_Secondary education             -0.060266  ...  0.477844\n",
              "Level_of_Education_Tertiary education               0.148016  ...  0.245698\n",
              "Level_of_Education_Vocational/Specialised training  0.009801  ...  0.224925\n",
              "Type_of_Job_Farming and Fishing                    -0.445962  ... -0.079844\n",
              "Type_of_Job_Formally employed Government           -0.047847  ...  0.205138\n",
              "Type_of_Job_Formally employed Private               0.061427  ...  0.247713\n",
              "Type_of_Job_Government Dependent                    0.028084  ... -0.021759\n",
              "Type_of_Job_Informally employed                    -0.054419  ... -0.068238\n",
              "Type_of_Job_No Income                               0.104364  ... -0.025134\n",
              "Type_of_Job_Other Income                           -0.083658  ...  0.056240\n",
              "Type_of_Job_Remittance Dependent                    0.102284  ...  0.117940\n",
              "Type_of_Job_Self employed                           0.385433  ... -0.141775\n",
              "\n",
              "[34 rows x 5 columns]"
            ]
          },
          "metadata": {
            "tags": []
          },
          "execution_count": 68
        }
      ]
    },
    {
      "cell_type": "code",
      "metadata": {
        "id": "7HE3BksuIMDq",
        "colab_type": "code",
        "colab": {
          "base_uri": "https://localhost:8080/",
          "height": 143
        },
        "outputId": "2d9fc3f4-7b3a-4d9a-db71-772188d4f6ae"
      },
      "source": [
        "fa.get_factor_variance()\n"
      ],
      "execution_count": 69,
      "outputs": [
        {
          "output_type": "execute_result",
          "data": {
            "text/html": [
              "<div>\n",
              "<style scoped>\n",
              "    .dataframe tbody tr th:only-of-type {\n",
              "        vertical-align: middle;\n",
              "    }\n",
              "\n",
              "    .dataframe tbody tr th {\n",
              "        vertical-align: top;\n",
              "    }\n",
              "\n",
              "    .dataframe thead th {\n",
              "        text-align: right;\n",
              "    }\n",
              "</style>\n",
              "<table border=\"1\" class=\"dataframe\">\n",
              "  <thead>\n",
              "    <tr style=\"text-align: right;\">\n",
              "      <th></th>\n",
              "      <th>Factor1</th>\n",
              "      <th>Factor2</th>\n",
              "      <th>Factor3</th>\n",
              "      <th>Factor4</th>\n",
              "      <th>Factor5</th>\n",
              "    </tr>\n",
              "  </thead>\n",
              "  <tbody>\n",
              "    <tr>\n",
              "      <th>SS Loadings</th>\n",
              "      <td>2.960486</td>\n",
              "      <td>1.983795</td>\n",
              "      <td>1.90400</td>\n",
              "      <td>1.810138</td>\n",
              "      <td>1.675477</td>\n",
              "    </tr>\n",
              "    <tr>\n",
              "      <th>Proportion Var</th>\n",
              "      <td>0.087073</td>\n",
              "      <td>0.058347</td>\n",
              "      <td>0.05600</td>\n",
              "      <td>0.053239</td>\n",
              "      <td>0.049279</td>\n",
              "    </tr>\n",
              "    <tr>\n",
              "      <th>Cumulative Var</th>\n",
              "      <td>0.087073</td>\n",
              "      <td>0.145420</td>\n",
              "      <td>0.20142</td>\n",
              "      <td>0.254659</td>\n",
              "      <td>0.303938</td>\n",
              "    </tr>\n",
              "  </tbody>\n",
              "</table>\n",
              "</div>"
            ],
            "text/plain": [
              "                 Factor1   Factor2  Factor3   Factor4   Factor5\n",
              "SS Loadings     2.960486  1.983795  1.90400  1.810138  1.675477\n",
              "Proportion Var  0.087073  0.058347  0.05600  0.053239  0.049279\n",
              "Cumulative Var  0.087073  0.145420  0.20142  0.254659  0.303938"
            ]
          },
          "metadata": {
            "tags": []
          },
          "execution_count": 69
        }
      ]
    },
    {
      "cell_type": "code",
      "metadata": {
        "id": "rIXkYobKIR6i",
        "colab_type": "code",
        "colab": {}
      },
      "source": [
        ""
      ],
      "execution_count": 0,
      "outputs": []
    }
  ]
}